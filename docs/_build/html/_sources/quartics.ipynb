{
 "cells": [
  {
   "cell_type": "markdown",
   "id": "aa8ec307-52b6-41f6-88dc-b15465dc67fa",
   "metadata": {},
   "source": [
    "# Quartics\n",
    "\n",
    "In degree four we find the quartics. In one variable, any quartic univariate $f(x)$ is given by\n",
    "\n",
    "```{math}\n",
    "\n",
    "f(x) = e + dx + cx^2 + bx^3 + ax^4\n",
    "\n",
    "```\n",
    "\n",
    "for $a\\neq0$. Quartics are coded in `quartics.py` under the class `Quartic`, which is a subclass of `Poly`. That is, quartics are instances of `Quartic`. As quartics are also polynomials, they will be instances of `Poly`.\n"
   ]
  },
  {
   "cell_type": "markdown",
   "id": "9f9e1a65-3b29-4305-8511-400e2e163110",
   "metadata": {},
   "source": [
    "## Library import\n"
   ]
  },
  {
   "cell_type": "code",
   "execution_count": 1,
   "id": "37452606-c5f9-4195-917f-c8382cc0c810",
   "metadata": {},
   "outputs": [],
   "source": [
    "from class_scripts import quartic as qrtc"
   ]
  },
  {
   "cell_type": "markdown",
   "id": "da06d8c1-ed26-4c0f-8643-cffe8801a679",
   "metadata": {},
   "source": [
    "## Attributes\n",
    "\n",
    "### Pre-initialisation\n",
    "\n",
    "As with quadratics and cubics, quartics are polynomials of degree $4$ with *non-zero* leading coefficient. This is detected by the `__new__` method which runs before initialising any instance. \n",
    "\n",
    "The following are examples of polynomials which are *not* quartic."
   ]
  },
  {
   "cell_type": "code",
   "execution_count": 2,
   "id": "fc9530b7-d832-4fe6-9e1a-2dcc83ea3893",
   "metadata": {},
   "outputs": [
    {
     "name": "stdout",
     "output_type": "stream",
     "text": [
      "Not quartic\n",
      "Not quartic\n",
      "Not quartic\n"
     ]
    }
   ],
   "source": [
    "not_quart_1 = qrtc.Quartic([1, 5, -2, 10])\n",
    "not_quart_2 = qrtc.Quartic([-3, 4, 1, 2, 0])\n",
    "not_quart_3 = qrtc.Quartic([-1, 7, 3, -8, 1, 1])\n",
    "\n",
    "\n",
    "print(not_quart_1)\n",
    "print(not_quart_2)\n",
    "print(not_quart_3)"
   ]
  },
  {
   "cell_type": "markdown",
   "id": "a7e2edf7-6f90-4d35-96b6-70dcf5ef5f2c",
   "metadata": {},
   "source": [
    "### Initialisation\n",
    "\n",
    "For an honest quartic $f(x) = e + dx + cx^2 + bx^3 + ax^4$, all of its attributes are inherited from the class `Poly`. For example, for \n",
    "\n",
    "```{math}\n",
    "\n",
    "f(x) = -1 + x + 3x^2 - 9x^3 + 2x^4\n",
    "\n",
    "```\n",
    "\n",
    "its attributes are:"
   ]
  },
  {
   "cell_type": "code",
   "execution_count": 3,
   "id": "cd12feaf-cf1b-42cb-a7a2-61c5079d0b40",
   "metadata": {},
   "outputs": [
    {
     "name": "stdout",
     "output_type": "stream",
     "text": [
      "The degree of -1x^0 + 1x^1 + 3x^2 - 9x^3 + 2x^4  is: 4\n",
      "The coefficients defining -1x^0 + 1x^1 + 3x^2 - 9x^3 + 2x^4  is: [-1, 1, 3, -9, 2]\n"
     ]
    }
   ],
   "source": [
    "quart = qrtc.Quartic([-1, 1, 3, -9, 2])\n",
    "\n",
    "print(f\"The degree of {quart} is: {quart.degree}\")\n",
    "print(f\"The coefficients defining {quart} is: {quart.coeffs}\")\n"
   ]
  },
  {
   "cell_type": "markdown",
   "id": "d48aacb6-4e4c-4fdd-a02b-0949c8c00773",
   "metadata": {},
   "source": [
    "Unlike for the quadratic and cubic, the discriminant of a quartic is not coded as an attribute of `Quartic`. It must be obtained instead by calling the method `discriminant()`. For the quartic above:"
   ]
  },
  {
   "cell_type": "code",
   "execution_count": 4,
   "id": "c22d3139-bcdb-4a58-81f3-58098c5d5cd9",
   "metadata": {},
   "outputs": [
    {
     "name": "stdout",
     "output_type": "stream",
     "text": [
      "The discriminant if -1x^0 + 1x^1 + 3x^2 - 9x^3 + 2x^4  is: -72752.0\n"
     ]
    }
   ],
   "source": [
    "print(f\"The discriminant if {quart} is: {quart.discriminant()}\")"
   ]
  },
  {
   "cell_type": "markdown",
   "id": "f7b97ffc-15f3-4a15-ac45-18989a1ab761",
   "metadata": {},
   "source": [
    "## Depression\n",
    "\n",
    "As with the cubic, it is always possible to transform a quartic to \"depressed\" form. A *depressed quartic* is a quartic $g(x)$ of the form,\n",
    "\n",
    "```{math}\n",
    "\n",
    "g(x) = \\gamma + \\beta x + \\alpha x^2 + x^4\n",
    "\n",
    "```\n",
    "\n",
    "With $f(x) = e + dx + cx^2 + bx^3 + ax^4$, if can be placed in depressed form through the variable change $x \\mapsto x - \\frac{b}{4a}$, followed by dividing through the leading coefficient $a$. See [this Wikipedia entry](https://en.wikipedia.org/wiki/Quartic_equation#Converting_to_a_depressed_quartic) for the formula relating the coefficients of $f$ with those of $g$. \n",
    "\n",
    "### Implementation\n",
    "\n",
    "The formula relating the coefficients of a quartic to its depressed form is implemented by the method `toDepressed()`. Recall, the same method is callable on instances of `Cubic`. This method passes in quartics and returns their depressed form using the formula from the above Wikipedia entry.\n",
    "\n",
    "As an illustration, for the quartic $f(x) = -1 + x + 3x^2 - 9x^3 + 2x^4$ from above, its depression is:\n"
   ]
  },
  {
   "cell_type": "code",
   "execution_count": 5,
   "id": "ad3733d2-2ddd-4669-a23a-dbb198bb3e2f",
   "metadata": {},
   "outputs": [
    {
     "name": "stdout",
     "output_type": "stream",
     "text": [
      "-2.8445x^0 - 7.5156x^1 - 6.0938x^2 + 1x^4 \n"
     ]
    }
   ],
   "source": [
    "depr_quart = quart.toDepressed()\n",
    "print(depr_quart)"
   ]
  },
  {
   "cell_type": "markdown",
   "id": "32488b6c-caaf-4383-a6a4-96403609c2bb",
   "metadata": {},
   "source": [
    "Recall that depression can also be derived through variable change. And so to check the validity of the formula implemented in `toDepressed()`, we can compose $f(x)$ with the polynomial $x - b/4a$ and divide through by $a$. Doing this we find:"
   ]
  },
  {
   "cell_type": "code",
   "execution_count": 6,
   "id": "db0f4682-2d07-4979-a1e7-5355321eee57",
   "metadata": {},
   "outputs": [
    {
     "name": "stdout",
     "output_type": "stream",
     "text": [
      "-2.8445x^0 - 7.5156x^1 - 6.0938x^2 + 1.0x^4 \n"
     ]
    }
   ],
   "source": [
    "a = quart.coeff(quart.degree)\n",
    "b = quart.coeff(quart.degree-1)\n",
    "\n",
    "composite = qrtc.Poly([-b/(4*a), 1])\n",
    "quart_composed = quart.composeWith(composite)\n",
    "quart_depressed = quart_composed * qrtc.Poly([1/a])\n",
    "\n",
    "print(quart_depressed)"
   ]
  },
  {
   "cell_type": "markdown",
   "id": "d1481961-d22e-4e8f-ab65-a5c2e8faa237",
   "metadata": {},
   "source": [
    "This validates the formula used in the method `toDepressed()`."
   ]
  },
  {
   "cell_type": "markdown",
   "id": "dcdb38ed-7875-41b9-8fcd-bb395acf8d17",
   "metadata": {},
   "source": [
    "## Zeroes\n",
    "\n",
    "### Background \n",
    "\n",
    "For a quartic univariate $f(x) = e + dx + cx^2 + bx^3 + ax^4$, a zero is a value $x_0$ such that $f(x_0) = 0$. The quartics are the highest degree polynomials for which an algebraic formula exists for their zeroes. That is, a formula involving only algebraic expressions of the coefficients. \n",
    "\n",
    "```{note}\n",
    "\n",
    "It is known that in degrees *five* and higher, no such algebraic formula exists for returning roots. \n",
    "\n",
    "```\n",
    "\n",
    "As with cubics, the method for deriving the formula for quartic roots involves first depressing the quartic. The attentive reader might note however that the module `quartic.py` imports `quadratic.py` and `cubic.py`. This is because any formula for the roots of a quartic involve solving a cubic equation. From [this entry](https://en.wikipedia.org/wiki/Quartic_equation#Solving_a_depressed_quartic_when_b%E2%89%A00) a formula for the roots of a general quartic (in depressed form), $f(x) =  c + bx + ax^2 + x^4$, for $a, b$ non-zero, can be expressed via any solution of the following cubic equation (in variable $y$),\n",
    "\n",
    "```{math}\n",
    "\n",
    "\\left(ac - \\frac{1}{4}b^2\\right) - 2cy - ay^2 + 2y^3 = 0\n",
    "\n",
    "```\n",
    "\n",
    "In a degenerate case $b = 0$, the depressed quartic can be solved using the quadratic equation.\n",
    "\n",
    "### Implementation\n",
    "\n",
    "The method `zeroes()` is callable on any instance of the class `Quartic`. It passes in any instance of `Quartic` and returns a list of its zeros. \n",
    "\n",
    "To illustrate, for the following quartics:\n",
    "\n",
    "- $-12 + 3 x + 2x^4$;\n",
    "- $3 - x + 7x^2 + 5x^3 - 7x^4$;\n",
    "- $8 + 2x^2 + 3x^4$\n",
    "\n",
    "their zeroes are:\n"
   ]
  },
  {
   "cell_type": "code",
   "execution_count": 7,
   "id": "48ce816d-6741-483a-bcac-7d03d44e3f4b",
   "metadata": {},
   "outputs": [
    {
     "name": "stdout",
     "output_type": "stream",
     "text": [
      "1.4047 + 0.0i\n",
      "-1.7108 + 0.0i\n",
      "0.1531 + 1.5727i\n",
      "0.1531 - 1.5727i\n",
      "\n",
      "\n",
      "0.105 + 0.5412i\n",
      "0.105 - 0.5412i\n",
      "1.466 + 0.0i\n",
      "-0.9617 + 0.0i\n",
      "\n",
      "\n",
      "0.8061 + 0.9915i\n",
      "-0.8061 - 0.9915i\n",
      "0.8061 - 0.9915i\n",
      "-0.8061 + 0.9915i\n",
      "\n",
      "\n"
     ]
    }
   ],
   "source": [
    "qt_1 = qrtc.Quartic([-12, 3, 0, 0, 2])\n",
    "qt_2 = qrtc.Quartic([3, -1, 7, 5, -7])\n",
    "qt_3 = qrtc.Quartic([8, 0, 2, 0, 3])\n",
    "\n",
    "qt_list = [qt_1, qt_2, qt_3]\n",
    "\n",
    "for qt in qt_list:\n",
    "    print(*qt.zeroes(), sep='\\n')\n",
    "    print('\\n')"
   ]
  },
  {
   "cell_type": "markdown",
   "id": "c8fd1128-51bf-4b4e-b75e-c186aa339fc6",
   "metadata": {},
   "source": [
    "As a check now that we have indeed returned zeroes, we run the following:"
   ]
  },
  {
   "cell_type": "code",
   "execution_count": 9,
   "id": "2ad7b44c-2fbf-4a0a-9e86-483e04cae5e0",
   "metadata": {},
   "outputs": [
    {
     "name": "stdout",
     "output_type": "stream",
     "text": [
      "0.0 + 0.0i\n",
      "0.0 + 0.0i\n",
      "0.0 + -0.0i\n",
      "0.0 + -0.0i\n",
      "\n",
      "\n",
      "0.0 + 0.0i\n",
      "0.0 + 0.0i\n",
      "0.0 + 0.0i\n",
      "0.0 + 0.0i\n",
      "\n",
      "\n",
      "0.0 + 0.0i\n",
      "0.0 + 0.0i\n",
      "0.0 + -0.0i\n",
      "0.0 + -0.0i\n",
      "\n",
      "\n"
     ]
    }
   ],
   "source": [
    "for qt in qt_list:\n",
    "    zros = qt.zeroes()\n",
    "    for zro in zros:\n",
    "        print(qt.cplxEval(zro))\n",
    "    print('\\n')\n",
    "    "
   ]
  },
  {
   "cell_type": "markdown",
   "id": "d9afb574-d9af-4397-9a45-472a6cda747a",
   "metadata": {},
   "source": [
    "We find that the quartic evaluated at each zero indeed returns zero, as expected."
   ]
  },
  {
   "cell_type": "code",
   "execution_count": null,
   "id": "f11322ca-894e-4096-b00d-578811b2e714",
   "metadata": {},
   "outputs": [],
   "source": []
  }
 ],
 "metadata": {
  "kernelspec": {
   "display_name": "Python 3",
   "language": "python",
   "name": "python3"
  },
  "language_info": {
   "codemirror_mode": {
    "name": "ipython",
    "version": 3
   },
   "file_extension": ".py",
   "mimetype": "text/x-python",
   "name": "python",
   "nbconvert_exporter": "python",
   "pygments_lexer": "ipython3",
   "version": "3.8.8"
  }
 },
 "nbformat": 4,
 "nbformat_minor": 5
}
