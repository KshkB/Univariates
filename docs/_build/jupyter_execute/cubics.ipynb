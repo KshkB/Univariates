{
 "cells": [
  {
   "cell_type": "markdown",
   "id": "dd7f089c-5285-47c0-9722-96f5447f27e6",
   "metadata": {},
   "source": [
    "# The cubics\n",
    "\n",
    "Polynomials of degree three are referred to as *cubics*. In one variable, cubic univariates. They are generically of the form \n",
    "\n",
    "```{math}\n",
    "\n",
    "f(x) = d + cx + bx^2 + ax^3\n",
    "\n",
    "```\n",
    "\n",
    "for $a\\neq0$. As with the quadratics, cubic polynomials are polynomials. They are coded in the module `cubics.py` as a subclass of `Poly`. \n",
    "\n",
    "## Library import"
   ]
  },
  {
   "cell_type": "code",
   "execution_count": 1,
   "id": "49ab999a-3e94-4c89-9a39-5eb712bf66c6",
   "metadata": {},
   "outputs": [],
   "source": [
    "from class_scripts import cubics as cbc"
   ]
  },
  {
   "cell_type": "markdown",
   "id": "372c7dd0-1485-43d4-969a-507783460900",
   "metadata": {},
   "source": [
    "## Attributes\n",
    "\n",
    "### Pre-initialisation\n",
    "\n",
    "The `__new__` method is run before initialisation and verifies whether a given array is indeed a member of the class `Cubic`. Recall, it will be a cubic if it has degree *three* with non-zero leading term. The following two instances are *not cubic*, as detected by `__new__`."
   ]
  },
  {
   "cell_type": "code",
   "execution_count": 2,
   "id": "e3137e33-143f-4331-bf58-7cabedeea367",
   "metadata": {},
   "outputs": [
    {
     "name": "stdout",
     "output_type": "stream",
     "text": [
      "Not a cubic\n",
      "Not a cubic\n",
      "Not a cubic\n"
     ]
    }
   ],
   "source": [
    "cbc_test_1 = cbc.Cubic([1])\n",
    "cbc_test_2 = cbc.Cubic([-4, 5, -2, 0])\n",
    "cbc_test_3 = cbc.Cubic([-3, 3, 1, -4, 0])\n",
    "\n",
    "print(cbc_test_1)\n",
    "print(cbc_test_2)\n",
    "print(cbc_test_3)"
   ]
  },
  {
   "cell_type": "markdown",
   "id": "7e2e3475-1f1a-476d-a306-fbccc89158f3",
   "metadata": {},
   "source": [
    "### Initialisation\n",
    "\n",
    "For an honest cubic $f(x) = d + cx + bx^2 + ax^3$, it comes with all the attributes of `Poly`. Furthermore, as with quadratics, it is much faster to calculate its discriminant from the coefficients passed rather than first calculating its resultant.\n",
    "\n",
    "To illustrate, on the cubic $f(x) = -3 + 5x + x^2 -12x^3$, when initialised it has attribues:"
   ]
  },
  {
   "cell_type": "code",
   "execution_count": 3,
   "id": "1b445924-eec3-4e25-80bf-4cd6af5016ef",
   "metadata": {},
   "outputs": [
    {
     "name": "stdout",
     "output_type": "stream",
     "text": [
      "The cubic polynomials is: -3x^0 + 5x^1 + 1x^2 - 12x^3 \n",
      "Its coefficient list is: [-3, 5, 1, -12]\n",
      "The degree of the cubic is: 3\n",
      "Its discriminant is: -25715\n"
     ]
    }
   ],
   "source": [
    "cbc_1 = cbc.Cubic([-3, 5, 1, -12])\n",
    "\n",
    "print(f\"The cubic polynomials is: {cbc_1}\")\n",
    "print(f\"Its coefficient list is: {cbc_1.coeffs}\")\n",
    "print(f\"The degree of the cubic is: {cbc_1.degree}\")\n",
    "print(f\"Its discriminant is: {cbc_1.disc}\")"
   ]
  },
  {
   "cell_type": "markdown",
   "id": "364bdf52-7e02-48f3-b370-5c9a733d8f2d",
   "metadata": {},
   "source": [
    "As a check, to see that its discriminant coincides with the discrinimant call `discriminant()` when viewed as an instance of `Poly`, see that:"
   ]
  },
  {
   "cell_type": "code",
   "execution_count": 4,
   "id": "205eac1a-5fb4-43d9-aeac-e1a2b30657d3",
   "metadata": {},
   "outputs": [
    {
     "name": "stdout",
     "output_type": "stream",
     "text": [
      "-25715.0\n"
     ]
    }
   ],
   "source": [
    "print(cbc_1.discriminant())"
   ]
  },
  {
   "cell_type": "markdown",
   "id": "637d470a-ab4b-48fc-bb94-492aa9eab455",
   "metadata": {},
   "source": [
    "## Cubic depression\n",
    "\n",
    "### Preliminaries\n",
    "\n",
    "An important transformation for cubics is the *depression*. A *depressed cubic* $g(x)$ is a cubic of the form $g(x) = q + px + x^3$ for coefficients $p, q$. From the [Wikipedia entry](https://en.wikipedia.org/wiki/Cubic_equation#Depressed_cubic), *any* cubic can be transformed into depressed form. \n",
    "\n",
    "For a general cubic $f(x) = d + cx + bx^2 + ax^3$, recall that we know $a\\neq0$. As such we can divide through by the leading coefficient $a$ without cause for heart palpatations. The transformation $x \\mapsto x - \\frac{b}{3a}$ will send $f$ to the form $\\tilde f(x) = aq + apx + ax^3$. Dividing through by $a$ gives the depressed cubic $g(x) = q + px + x^3$. The new coefficients $(p, q)$ can be expressed in terms of the old coefficients $(a, b, c, d)$ thusly,\n",
    "\n",
    "$$\n",
    "\\begin{align}\n",
    "p\n",
    "=\n",
    "\\frac{3ac - b^2}{3a^2}\n",
    "&&\n",
    "\\mbox{and}\n",
    "&&\n",
    "q \n",
    "=\n",
    "\\frac{2b^3 - 9abc + 27 a^2d}{27 a^3}.\n",
    "\\end{align}\n",
    "$$\n",
    "\n",
    "### Implementation\n",
    "\n",
    "In the class `Cubic`, the method `toDepressed()` takes any instance of `Cubic` and, through the above formula for the coefficients, returns its depression which is another instance of `Cubic`. To illustrate, consider the cubic,\n",
    "\n",
    "```{math}\n",
    "\n",
    "f(x) = 1 + 7x - 3x^3 + 2x^3\n",
    "\n",
    "```\n",
    "\n",
    "Its depression is:"
   ]
  },
  {
   "cell_type": "code",
   "execution_count": 5,
   "id": "f5966919-378f-43cf-82d6-49880dce0cda",
   "metadata": {},
   "outputs": [
    {
     "name": "stdout",
     "output_type": "stream",
     "text": [
      "2.0x^0 + 2.75x^1 + 1x^3 \n"
     ]
    }
   ],
   "source": [
    "undepressed = cbc.Cubic([1, 7, -3, 2])\n",
    "print(undepressed.toDepressed())"
   ]
  },
  {
   "cell_type": "markdown",
   "id": "7d309819-1ddc-4a29-8ecb-4b7488a0a565",
   "metadata": {},
   "source": [
    "We obtained the above cubic by applying the formula. It is also possible to recover it through composing it with the transformation $x \\mapsto x - \\frac{b}{3a}$ and dividing the resulting polynomial by $a$. This can be implemented through the `composeWith()` method callable on any instance of `Poly`. In doing so:"
   ]
  },
  {
   "cell_type": "code",
   "execution_count": 6,
   "id": "cef5742c-8bab-470c-a58c-271fe2b2f499",
   "metadata": {},
   "outputs": [
    {
     "name": "stdout",
     "output_type": "stream",
     "text": [
      "2.0x^0 + 2.75x^1 + 1.0x^3 \n"
     ]
    }
   ],
   "source": [
    "leading_coeff = undepressed.coeff(undepressed.degree)\n",
    "coeff_b = undepressed.coeff(undepressed.degree - 1)\n",
    "\n",
    "composite = cbc.Poly([-coeff_b/(3*leading_coeff), 1])\n",
    "factor = cbc.Poly([1/leading_coeff])\n",
    "\n",
    "\n",
    "print(factor * undepressed.composeWith(composite))"
   ]
  },
  {
   "cell_type": "markdown",
   "id": "109fee5e-7e23-4299-b9e2-6bcc12b5425b",
   "metadata": {},
   "source": [
    "## Zeroes\n",
    "\n",
    "### Background \n",
    "\n",
    "A *root* of a cubic univariate $f(x) = d + cx + bx^2 + ax^3$ is a value $x_0$ such that \n",
    "\n",
    "```{math}\n",
    "\n",
    "f(x_0) = 0.\n",
    "\n",
    "```\n",
    "\n",
    "The problem of expressing roots of a cubic univariate in terms of its coefficients and radicals, in a manner analogous to the case of quadratic univariates, is a classical problem in the history of mathematics. Over the complex numbers, there will always exist three roots of $f$, counted with multiplicity. \n",
    "\n",
    "#### Utility of depression\n",
    "\n",
    "Recall that any cubic can be transformed into a much simpler cubic, name its depression. The problem of finding roots of the cubic can therefore be reduced to finding roots of its depression, which is significantly easier. Since we know the transformation $x \\mapsto x - \\frac{b}{3a}$ sends the original cubic $f$ to (a multiple of) its depressed form, we can therefore obtain the root of $f$ by simply translating back any root of its depressed form. More explicitly, if $x_{depr}$ is a root of the depressed form of $f$, then the translate $x_{depr} + \\frac{b}{3a}$ will be a root of $f$.\n",
    "\n",
    "For any (real) depressed cubic $g(x) = q + px + x^3$ with *negative discriminant* Cardano famously obtained a formula for one of the roots in terms of the coefficients $p, q$ and their radicals (specifically, square- and cube-roots). \n",
    "\n",
    "```{note}\n",
    "\n",
    "Recall that it suffices to find only one root. The others can be obtained on multiplying by an appropriate root of unity. Once we have three roots we know, by the fundamental theorem of algebra, that we have found *all* the roots. With Cardano's formula and a cube root of unity it is possible to derive all the roots of a cubic.\n",
    "\n",
    "```\n",
    "\n",
    "See [this Wikipedia entry](https://en.wikipedia.org/wiki/Cubic_equation#General_cubic_formula) for the general formula for roots of a cubic.\n",
    "\n",
    "```{note}\n",
    "\n",
    "The formula from the above entry is valid in the same generality as in the quadratic case, i.e., for *complex* cubics, not just real cubics.\n",
    "\n",
    "```\n",
    "\n",
    "### Implementation\n",
    "\n",
    "The method `zeroes()` is callable on instances of the class `Cubic`. When called on an instance it returns a list of its zeroes. To illustrate, for the following cubics:\n",
    "\n",
    "- $-10 + x + 5x^3$;\n",
    "- $x -9x^2 + x^3$;\n",
    "- $-34 + 6x^2 + 2x^3$;\n",
    "- $1 + x + x^2 + x^3$\n",
    "\n",
    "Their zeroes are:\n"
   ]
  },
  {
   "cell_type": "code",
   "execution_count": 7,
   "id": "d3f5bcab-04d6-46f4-9557-cfcf8891d855",
   "metadata": {},
   "outputs": [
    {
     "name": "stdout",
     "output_type": "stream",
     "text": [
      "Zeroes of -10x^0 + 1x^1 + 5x^3  are:\n",
      "1.207 + 0.0i\n",
      "-0.6035 + 1.137i\n",
      "-0.6035 - 1.137i\n",
      "\n",
      "\n",
      "Zeroes of 1x^1 - 9x^2 + 1x^3  are:\n",
      "0.0 + 0.0i\n",
      "0.1125 + -0.0i\n",
      "8.8875 + 0.0i\n",
      "\n",
      "\n",
      "Zeroes of -34x^0 + 6x^2 + 2x^3  are:\n",
      "-2.4343 + 1.7809i\n",
      "-2.4343 - 1.7809i\n",
      "1.8686 + 0.0i\n",
      "\n",
      "\n",
      "Zeroes of 1x^0 + 1x^1 + 1x^2 + 1x^3  are:\n",
      "-1.0 + 0.0i\n",
      "0.0 + 1.0i\n",
      "-0.0 - 1.0i\n",
      "\n",
      "\n"
     ]
    }
   ],
   "source": [
    "test_cubic_1 = cbc.Cubic([-10, 1, 0, 5])\n",
    "test_cubic_2 = cbc.Cubic([0, 1, -9, 1])\n",
    "test_cubic_3 = cbc.Cubic([-34, 0, 6, 2])\n",
    "test_cubic_4 = cbc.Cubic([1, 1, 1, 1])\n",
    "\n",
    "test_cubics = [test_cubic_1, test_cubic_2, test_cubic_3, test_cubic_4]\n",
    "\n",
    "for c in test_cubics:\n",
    "    print(f\"Zeroes of {c} are:\")\n",
    "    c_zros = c.zeroes()\n",
    "    print(*c_zros, sep='\\n')\n",
    "    print('\\n')    "
   ]
  },
  {
   "cell_type": "markdown",
   "id": "7ea88a8a-fb31-4550-9895-dd530b565d1b",
   "metadata": {},
   "source": [
    "The value of the cubic at each zero must of course be zero. \n",
    "\n",
    "\n",
    "\n",
    "And so, as a sanity check on the method `zeroes()` we need to check, for each cubic in `test_cubics` above, that the cubic at that value is indeed zero. As the method `zeroes()` returns complex numbers, i.e., instances of `cplx`, to evaluate a polynomial thereon requires calling `cplxEval()` from `Poly`. We find:"
   ]
  },
  {
   "cell_type": "code",
   "execution_count": 8,
   "id": "9244feaf-b5e9-4767-aeda-20d18b7769ff",
   "metadata": {},
   "outputs": [
    {
     "name": "stdout",
     "output_type": "stream",
     "text": [
      "-0.0 + 0.0i\n",
      "-0.0 + 0.0i\n",
      "-0.0 + 0.0i\n",
      "\n",
      "\n",
      "0.0 + 0.0i\n",
      "0.0 + 0.0i\n",
      "0.0 + 0.0i\n",
      "\n",
      "\n",
      "-0.0 + 0.0i\n",
      "-0.0 + 0.0i\n",
      "-0.0 + 0.0i\n",
      "\n",
      "\n",
      "0.0 + 0.0i\n",
      "0.0 + 0.0i\n",
      "0.0 + 0.0i\n",
      "\n",
      "\n"
     ]
    }
   ],
   "source": [
    "for c in test_cubics:\n",
    "    c_zros = c.zeroes()\n",
    "    for zro in c_zros:\n",
    "        print(c.cplxEval(zro))\n",
    "    print('\\n')"
   ]
  },
  {
   "cell_type": "markdown",
   "id": "7a9e787e-7860-47a6-a69a-29a4138b98ab",
   "metadata": {},
   "source": [
    "And so for each cubic in `test_cubics`, each of their zeroes indeed returns zero upon evaluation, as expected."
   ]
  },
  {
   "cell_type": "code",
   "execution_count": null,
   "id": "55688adf-2d10-4f01-bef4-b6835a878177",
   "metadata": {},
   "outputs": [],
   "source": []
  }
 ],
 "metadata": {
  "kernelspec": {
   "display_name": "Python 3",
   "language": "python",
   "name": "python3"
  },
  "language_info": {
   "codemirror_mode": {
    "name": "ipython",
    "version": 3
   },
   "file_extension": ".py",
   "mimetype": "text/x-python",
   "name": "python",
   "nbconvert_exporter": "python",
   "pygments_lexer": "ipython3",
   "version": "3.8.8"
  }
 },
 "nbformat": 4,
 "nbformat_minor": 5
}