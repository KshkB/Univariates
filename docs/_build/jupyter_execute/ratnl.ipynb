{
 "cells": [
  {
   "cell_type": "markdown",
   "id": "30a52a3e-640c-4bcd-8950-378d6191b779",
   "metadata": {},
   "source": [
    "# Rational functions (basics)\n",
    "\n",
    "Any polynomial is a rational function but not conversely. A *rational function* in one variable is a the ratio of one polynomial to another. Any rational function $R(x)$ can be expressed as \n",
    "\n",
    "```{math}\n",
    "\n",
    "R(x)\n",
    "=\n",
    "\\frac{f(x)}{g(x)}\n",
    "\n",
    "```\n",
    "\n",
    "for polynomials $f(x), g(x)$. \n",
    "\n",
    "Many of the properties for polynomials adapt straightforwardly to rational functions, albeit with minor changes. Furthemore, many operations for rational functions can be expressed in terms of operations on polynomials. For instance, arithmetical operations such as addition and multiplication can expressed in terms of those operations on  polynomials. For rational functions $R(x), S(x)$ given by polynomials,\n",
    "\n",
    "$$\n",
    "\\begin{align}\n",
    "R(x)\n",
    "=\n",
    "\\frac{f(x)}{g(x)}\n",
    "&&\n",
    "\\mbox{and}\n",
    "&&\n",
    "S(x) \n",
    "=\n",
    "\\frac{h(x)}{i(x)}\n",
    "\\end{align}\n",
    "$$\n",
    "\n",
    "we have\n",
    "\n",
    "$$\n",
    "\\begin{align}\n",
    "R(x) + S(x)\n",
    "&= \n",
    "\\frac{f(x) i(x) + g(x) h(x)}{g(x) i(x)};\n",
    "\\\\\n",
    "R(x)\\cdot S(x)\n",
    "&=\n",
    "\\frac{f(x)\\cdot h(x)}{g(x)\\cdot i(x)}.\n",
    "\\end{align}\n",
    "$$\n",
    "\n",
    "See that on the left hand side, addition and multiplication is for rational functions. On the right hand side instances of addition and multiplication are for polynomials.\n",
    "\n",
    "## Mathematical background\n",
    "\n",
    "Recall that the ring of polynomials over a field $\\mathbb K$ are dual to affine $\\mathbb K$ space $\\mathbb A_{\\mathbb K}$. That is, the affine space $\\mathbb A_{\\mathbb K}$ can be understood as the spectrum of the ring $\\mathbb K[x]$. Does there exist an analogous interpretation for rational functions? \n",
    "\n",
    "Firstly, as arithmetical operations make sense for rational functions, the set of rational functions in one variable also forms a ring (in fact, it forms a *field* in much the same way that the rational numbers $\\mathbb Q$ is a field obtained from the integers $\\mathbb Z$, which is only a ring). Moreover, as any polynomial is a rational, the set of polynomials is *contained* in that of rationals. More strongly, as we have seen above, arithematical operations for rationals can be expressed interms of operations on polynomials. It follows that containment of polynomials in rationals goes beyond simply an inclusion of sets. We have in fact an inclusion of *rings*. \n",
    "\n",
    "To phrase this symbolically, recall that $\\mathbb K[x]$ denotes the ring of polynomials in one variable. Let $\\mathbb K(x)$ denote the ring of rational functions in one variable. Then there exists an *embedding as rings* $\\iota: \\mathbb K[x]\\subset \\mathbb K(x)$. What we want to know however is whether there is a geometric interpretation for $\\mathbb K(x)$ in analogy to that for $\\mathbb K[x]$? That is, is there some topological space $X$ which can be realised as the spectrum of $\\mathbb K(x)$? \n",
    "\n",
    "Generically, for the set of *all* rational functions in one variable, there is no such *affine* space. The main issue lies in the domains of definition. For a given rational function $R(x)$, it will not be defined at values of $x$ which are roots of the denominator. Hence, in contrast to polynomials, different rational functions will have different domains of definition, c.f., $R(x) = 1/x$ and $S(x) = 1/(x-1)$. \n",
    "\n",
    "In order to arrive at a geometric understanding of rational functions, it is necessary to consider the notion of \"partial functions\" on *projective spaces*. \n",
    "\n",
    "To stay within the realm of affine spaces, if a particular denominator polynomial is specified, then the locus of points at which it does *not* vanish defines an open subspace of affine space. This in fact characterizes *all* affine subspaces (known as \"affine subvarieties\"). And so, if $D\\subset \\mathbb A_{\\mathbb K}$ is a domain at which $g(x) = 0$ for all $x \\in D$, then the ring of *functions on $D$* is the ring of remainders $\\mathbb K[x]/(g(x))$, i.e., $D$ is the spectrum of $\\mathbb K[x]/(g(x))$. \n",
    "\n",
    "```{note}\n",
    "\n",
    "In the one dimensional case, $D$ will just be a finite collection of points which are roots of $g(x)$. Indeed, recall that the Polynomial Remainder Theorem gives an interpretation of polynomial evaluation via polynomial division. For a polynomial $f(x)$ and value $\\lambda$, $f(\\lambda)$ is the remainder of $f(x)/(x-\\lambda)$. Here $g(x) = x - \\lambda$ is a polynomial with root $x = \\lambda$. Note therefore that *any* polynomial $f(x)$ which vanishes at $\\lambda$ is necessarily a multiple of $g(x)$. Hence, any function $f$ which is *not* equal to a multiple of $g(x)$ will be a *non-zero* function on the singleton point $D = \\{\\lambda\\}\\subset \\mathbb A_{\\mathbb K}$. \n",
    "\n",
    "Written another way, if $\\mathbb K[D] = \\mathbb K[\\{\\lambda\\}]$ denotes the ring of functions on the singleton $D = \\{\\lambda\\}$, then \n",
    "\n",
    "$$\n",
    "\\mathbb K[D] = \\mathbb K[\\{\\lambda\\}] = \\frac{\\mathbb K[x]}{(x-\\lambda)}.\n",
    "$$\n",
    "\n",
    "\n",
    "```\n",
    "\n",
    "\n"
   ]
  },
  {
   "cell_type": "markdown",
   "id": "1bcd591f-d4cf-4db1-ac93-96040a64b516",
   "metadata": {},
   "source": [
    "## The Rational class\n",
    "\n",
    "A class for rational functions is coded in the module `rational.py` as `Rational`. Since operations on rational functions can be expressed through polynomials, it is convenient to draw on methods from the class `Poly` in `polynomial.py`. \n",
    "\n",
    "```{note}\n",
    "\n",
    "This does *not* mean `Rational` is a subclass of `Poly`. It does not inherit all the same attributes. \n",
    "\n",
    "```\n",
    "\n",
    "### Library import\n",
    "\n",
    "The module coding for the class of rational functions is `rational.py`. Below is the appropriate library import for \n",
    "preparing this document."
   ]
  },
  {
   "cell_type": "code",
   "execution_count": 1,
   "id": "9b299fc3-8e10-4b54-8dc2-c5bc68d77815",
   "metadata": {},
   "outputs": [],
   "source": [
    "from class_scripts import rational as rtnl"
   ]
  },
  {
   "cell_type": "markdown",
   "id": "72ff4575-e419-4d33-8169-775bf3c1969b",
   "metadata": {},
   "source": [
    "## Attributes and representation\n",
    "\n",
    "Many of the methods and attributes in `Poly` adapt to `Rational`. While in `Poly` we need only remember one polynomial, in `Rational` two polynomials are stored with an indication of which is the numerator and which the denominator.  \n",
    "\n",
    "For the rational function\n",
    "\n",
    "```{math}\n",
    "\n",
    "R(x)\n",
    "= \n",
    "\\frac{1}{x^2}\n",
    "\n",
    "```\n",
    "\n",
    "it is represented as:"
   ]
  },
  {
   "cell_type": "code",
   "execution_count": 2,
   "id": "661bf6bc-c1a3-49cd-bcd2-747f423e0a90",
   "metadata": {},
   "outputs": [
    {
     "name": "stdout",
     "output_type": "stream",
     "text": [
      "Rational([1], [0, 0, 1])\n"
     ]
    }
   ],
   "source": [
    "rat_1 = rtnl.Rational([1], [0, 0, 1])\n",
    "print(repr(rat_1))"
   ]
  },
  {
   "cell_type": "markdown",
   "id": "4102a884-32e7-4831-a90d-c6abcec462b5",
   "metadata": {},
   "source": [
    "The above print statement has returned the a statement in machine readable format. In more human readable format we have, as with `Poly`:"
   ]
  },
  {
   "cell_type": "code",
   "execution_count": 3,
   "id": "4e0cad28-7694-419f-8c9d-575b041cff86",
   "metadata": {},
   "outputs": [
    {
     "name": "stdout",
     "output_type": "stream",
     "text": [
      "numerator: 1x^0 \n",
      "denominator: 1x^2 \n"
     ]
    }
   ],
   "source": [
    "print(rat_1)"
   ]
  },
  {
   "cell_type": "markdown",
   "id": "baa1f70e-0e19-4004-a407-68d521cd6506",
   "metadata": {},
   "source": [
    "Evidently, an instance of `Rational` consists of two instances of `Poly`. Attributes stored for `Rational` are the attributes of the defining polynomial instances. These are called as follows. "
   ]
  },
  {
   "cell_type": "code",
   "execution_count": 4,
   "id": "304e3770-f3c1-4f72-9c8c-2dbff555db8e",
   "metadata": {},
   "outputs": [
    {
     "name": "stdout",
     "output_type": "stream",
     "text": [
      "[1]\n",
      "0\n",
      "[0, 0, 1]\n",
      "2\n"
     ]
    }
   ],
   "source": [
    "print(rat_1.numerator)\n",
    "print(rat_1.numdeg)\n",
    "print(rat_1.denominator)\n",
    "print(rat_1.denomdeg)"
   ]
  },
  {
   "cell_type": "markdown",
   "id": "85662cf5-f42f-4e8a-b9bb-23badfd89c3f",
   "metadata": {},
   "source": [
    "## Arithmetic\n",
    "\n",
    "### Evaluation\n",
    "\n",
    "Unlike for polynomials, rational functions are not necessarily defined for any argument values. The method `eval()` takes this into account and returns a value if it exists or returns `Undefined` if it does not. For the above rational function $R(x) = 1/x^2$, it is defined for all $x \\in \\{x:x\\neq0\\}$. \n",
    "\n",
    "At values $x = 1$ and $x = 0$ respectively we have:"
   ]
  },
  {
   "cell_type": "code",
   "execution_count": 5,
   "id": "b437340f-db42-42db-9b37-17f5dd86dc9d",
   "metadata": {},
   "outputs": [
    {
     "name": "stdout",
     "output_type": "stream",
     "text": [
      "1.0\n",
      "Undefined\n"
     ]
    }
   ],
   "source": [
    "val_1 = 1\n",
    "val_2 = 0\n",
    "\n",
    "print(rat_1.eval(1))\n",
    "print(rat_1.eval(0))"
   ]
  },
  {
   "cell_type": "markdown",
   "id": "64f702b8-4a91-4ede-ab86-2d4bb586bbe7",
   "metadata": {},
   "source": [
    "### Implementation\n",
    "\n",
    "As with instances of `Poly` we can adapt addition, subtraction, multiplication and division to `Rational`. To illustrate, for rational functions\n",
    "\n",
    "$$\n",
    "\\begin{align}\n",
    "R(x) = \\frac{1}{x^2}\n",
    "&&\n",
    "\\mbox{and}\n",
    "&&\n",
    "S(x) = \\frac{-1 + x^2}{x}\n",
    "\\end{align}\n",
    "$$\n",
    "\n",
    "we will return:\n",
    "\n",
    "- $R(x) + S(x)$;\n",
    "- $R(x) - S(x)$;\n",
    "- $R(x) \\cdot S(x)$;\n",
    "- $R(x)/S(x)$."
   ]
  },
  {
   "cell_type": "code",
   "execution_count": 6,
   "id": "d71af046-ee24-45bb-ad37-ada6d0e8546c",
   "metadata": {},
   "outputs": [
    {
     "name": "stdout",
     "output_type": "stream",
     "text": [
      "numerator: 1.0x^1 - 1.0x^2 + 1.0x^4 \n",
      "denominator: 1.0x^3 \n",
      "\n",
      "numerator: 1.0x^1 + 1.0x^2 - 1.0x^4 \n",
      "denominator: 1.0x^3 \n",
      "\n",
      "numerator: -1.0x^0 + 1.0x^2 \n",
      "denominator: 1.0x^3 \n",
      "\n",
      "numerator: 1.0x^1 \n",
      "denominator: -1.0x^2 + 1.0x^4 \n",
      "\n"
     ]
    }
   ],
   "source": [
    "rat_R = rtnl.Rational([1], [0, 0, 1])\n",
    "rat_S = rtnl.Rational([-1, 0, 1], [0, 1])\n",
    "\n",
    "print(f\"{rat_R + rat_S}\\n\")\n",
    "print(f\"{rat_R - rat_S}\\n\")\n",
    "print(f\"{rat_R * rat_S}\\n\")\n",
    "print(f\"{rat_R / rat_S}\\n\")"
   ]
  },
  {
   "cell_type": "markdown",
   "id": "cb338cf6-8397-4c73-8efb-23ba19410e05",
   "metadata": {},
   "source": [
    "````{note}\n",
    "\n",
    "The division method `__truediv__` does not perform any polynomial division as with instances of `Poly`. For rational functions $R = f/g$ and $S = h/i$, the division operator `/` returns for `R/S` the formal division,\n",
    "\n",
    "```{math}\n",
    "\n",
    "\\frac{R}{S} = \\frac{f}{g}\\cdot \\frac{i}{h}.\n",
    "\n",
    "```\n",
    "\n",
    "````\n",
    "\n",
    "In this way, division of two rational functions returns a rational function."
   ]
  },
  {
   "cell_type": "markdown",
   "id": "a1319247-af9e-4bb9-80bb-fa71a2110d3d",
   "metadata": {},
   "source": [
    "### Powers\n",
    "\n",
    "From the `__mul__` method we can define `__pow__` implementing powers of rational functions. For the rational $R(x) = \\frac{1}{x^2}$, its first five powers are:"
   ]
  },
  {
   "cell_type": "code",
   "execution_count": 7,
   "id": "b00b832b-83b2-4267-9213-079f3c361091",
   "metadata": {},
   "outputs": [
    {
     "name": "stdout",
     "output_type": "stream",
     "text": [
      "The 0-th power of Rational([1], [0, 0, 1]) is:\n",
      "numerator: 1x^0 \n",
      "denominator: 1x^0 \n",
      "\n",
      "The 1-th power of Rational([1], [0, 0, 1]) is:\n",
      "numerator: 1x^0 \n",
      "denominator: 1x^2 \n",
      "\n",
      "The 2-th power of Rational([1], [0, 0, 1]) is:\n",
      "numerator: 1.0x^0 \n",
      "denominator: 1.0x^4 \n",
      "\n",
      "The 3-th power of Rational([1], [0, 0, 1]) is:\n",
      "numerator: 1.0x^0 \n",
      "denominator: 1.0x^6 \n",
      "\n",
      "The 4-th power of Rational([1], [0, 0, 1]) is:\n",
      "numerator: 1.0x^0 \n",
      "denominator: 1.0x^8 \n",
      "\n",
      "The 5-th power of Rational([1], [0, 0, 1]) is:\n",
      "numerator: 1.0x^0 \n",
      "denominator: 1.0x^10 \n",
      "\n"
     ]
    }
   ],
   "source": [
    "for i in range(5+1):\n",
    "    print(f\"The {i}-th power of {repr(rat_R)} is:\\n{rat_R**i}\\n\")\n",
    "    "
   ]
  },
  {
   "cell_type": "markdown",
   "id": "37529d0a-aaca-4f48-8cea-853aff043294",
   "metadata": {},
   "source": [
    "### Composition\n",
    "\n",
    "Formally, we might think of rational functions as mappings $\\mathbb A_{\\mathbb K} \\rightarrow \\mathbb A_{\\mathbb K}$. In particular, it makes sense to compose them as in the case of polynomials. For rationals $R(x), S(x)$,\n",
    "\n",
    "```{math}\n",
    "\n",
    "T(x) = (R\\circ S)(x) = R(S(x)) = \\frac{f(S(x))}{g(S(x))}\n",
    "\n",
    "```\n",
    "\n",
    "With $R(x) = 1/x^2$ and $S(x) = (-1 + x^2)/x$, \n",
    "\n",
    "```{math}\n",
    "\n",
    "T(x)\n",
    "=\n",
    "\\frac{1}{S(x)^2}\n",
    "=\n",
    "\\frac{x^2}{(-1 + x^2)^2}\n",
    "\n",
    "```\n",
    "\n",
    "We can call the method `composeWith()` to implement composition:"
   ]
  },
  {
   "cell_type": "code",
   "execution_count": 8,
   "id": "4826c1f0-42af-4ca9-87a8-2c3253a2d2cc",
   "metadata": {},
   "outputs": [
    {
     "name": "stdout",
     "output_type": "stream",
     "text": [
      "numerator: 1.0x^3 \n",
      "denominator: 1.0x^1 - 2.0x^3 + 1.0x^5 \n"
     ]
    }
   ],
   "source": [
    "print(rat_R.composeWith(rat_S))"
   ]
  },
  {
   "cell_type": "markdown",
   "id": "a217a57d-2750-4a1f-a069-1c6f34decca2",
   "metadata": {},
   "source": [
    "```{note}\n",
    "\n",
    "We have not simplified the above expressions. We will come to simplification shortly. \n",
    "\n",
    "```"
   ]
  },
  {
   "cell_type": "markdown",
   "id": "e9e56655-8798-429c-bdc9-c64dda9fb9c1",
   "metadata": {},
   "source": [
    "## Differentiation\n",
    "\n",
    "As with the arithmetic, differentiation of rational functions can be expressed through differentiation of polynomials. For $R(x) = f(x)/g(x)$ the quotient polynomials $f$ and $g$, its derivative is\n",
    "\n",
    "```{math}\n",
    "\n",
    "\\frac{d}{dx}R(x)\n",
    "=\n",
    "\\frac{\\left(\\frac{d}{dx}f\\right)\\cdot g(x) - f(x)\\cdot \\left(\\frac{d}{dx}g\\right)}{g(x)^2}\n",
    "\n",
    "```\n",
    "\n",
    "On the left-hand side is the derivative of rational function $R(x)$; while on the right-hand we find derivatives of polynomials. The method `diff()` passes no arguments and returns the derivative of an instance of `Rational`.\n",
    "\n",
    "```{note}\n",
    "\n",
    "As with polynomials, the derivative of a rational function is again rational. Differentiation therefore preserves instances of the class `Rational`.\n",
    "\n",
    "```\n",
    "\n",
    "As an illustration, for $R(x) = 1/x^2$, its derivative is:"
   ]
  },
  {
   "cell_type": "code",
   "execution_count": 9,
   "id": "c165f6ec-0e73-47d4-9a52-9cdd37b4403e",
   "metadata": {},
   "outputs": [
    {
     "name": "stdout",
     "output_type": "stream",
     "text": [
      "numerator: -2.0x^1 \n",
      "denominator: 1.0x^4 \n"
     ]
    }
   ],
   "source": [
    "print(rat_R.diff())"
   ]
  },
  {
   "cell_type": "markdown",
   "id": "25f773bf-c6c3-4cff-a043-7ba07c7d2afe",
   "metadata": {},
   "source": [
    "#### Higher order differentiation\n",
    "\n",
    "The method `Hdiff()` passes in an integer and returns the $n$-th order derivative $d^n/dx^n$. The first five derivatives of $R(x)$ are:"
   ]
  },
  {
   "cell_type": "code",
   "execution_count": 10,
   "id": "eb529623-609f-42ce-9d97-c3d2b48e1e69",
   "metadata": {},
   "outputs": [
    {
     "name": "stdout",
     "output_type": "stream",
     "text": [
      "The 0-th derivative of Rational([1], [0, 0, 1]) is:\n",
      "numerator: 1x^0 \n",
      "denominator: 1x^2 \n",
      "\n",
      "The 1-th derivative of Rational([1], [0, 0, 1]) is:\n",
      "numerator: -2.0x^1 \n",
      "denominator: 1.0x^4 \n",
      "\n",
      "The 2-th derivative of Rational([1], [0, 0, 1]) is:\n",
      "numerator: 6.0x^4 \n",
      "denominator: 1.0x^8 \n",
      "\n",
      "The 3-th derivative of Rational([1], [0, 0, 1]) is:\n",
      "numerator: -24.0x^11 \n",
      "denominator: 1.0x^16 \n",
      "\n",
      "The 4-th derivative of Rational([1], [0, 0, 1]) is:\n",
      "numerator: 120.0x^26 \n",
      "denominator: 1.0x^32 \n",
      "\n",
      "The 5-th derivative of Rational([1], [0, 0, 1]) is:\n",
      "numerator: -720.0x^57 \n",
      "denominator: 1.0x^64 \n",
      "\n"
     ]
    }
   ],
   "source": [
    "for i in range(5+1):\n",
    "    print(f\"The {i}-th derivative of {repr(rat_R)} is:\\n{rat_R.Hdiff(i)}\\n\")"
   ]
  },
  {
   "cell_type": "markdown",
   "id": "2f1dc029-8258-4685-ac4f-5f7be8759e68",
   "metadata": {},
   "source": [
    "Unlike for polynomials, it is a more subtle issue to integrate rational functions. While there is a general formula, it involves analytic functions of complex variables. In particlar it is *not* a rational function."
   ]
  },
  {
   "cell_type": "markdown",
   "id": "fc2d034d-5e34-411c-9a98-1c4b15165a80",
   "metadata": {},
   "source": [
    "## Simplification\n",
    "\n",
    "\n",
    "If two integers $m, n$ share a common multiple $p$, then $m/n = (m/p)/(n/p)$. Similarly, for any rational function $R = f/g$ and any common divisor $h$\n",
    "\n",
    "```{math}\n",
    "\n",
    "R = \\frac{f}{g} = \\frac{f/h}{g/h}.\n",
    "\n",
    "```\n",
    "\n",
    "In this way, rational functions can be simplified by simultaneously reducing the degrees of the numerator and denominator. For example, with $f(x) = x^3$ and $g(x) = x^7$, \n",
    "\n",
    "```{math}\n",
    "\n",
    "R(x) = \\frac{f(x)}{g(x)} = \\frac{x^3}{x^7} = \\frac{1}{x^4}.\n",
    "\n",
    "```\n",
    "\n",
    "### Implementation\n",
    "\n",
    "Recall that the class `Poly` contains the method `gcd()` which passes in two instances $f, g$ and returns their greatest common divisor. This forms the basis for the method `simply()`, callable on any instance of `Rational`. \n",
    "\n",
    "To illustrate, the following rational function:\n",
    "\n",
    "```{math}\n",
    "\n",
    "\\frac{-1 + x^2}{1 + x}\n",
    "\n",
    "```\n",
    "\n",
    "simplifies to:"
   ]
  },
  {
   "cell_type": "code",
   "execution_count": 11,
   "id": "e08a2c27-6347-44a1-8a3b-332d7238972d",
   "metadata": {},
   "outputs": [
    {
     "name": "stdout",
     "output_type": "stream",
     "text": [
      "numerator: -1.0x^0 + 1.0x^1 \n",
      "denominator: 1.0x^0 \n"
     ]
    }
   ],
   "source": [
    "to_simplify = rtnl.Rational([-1, 0, 1], [1, 1])\n",
    "print(to_simplify.simplify())"
   ]
  },
  {
   "cell_type": "markdown",
   "id": "3418a3aa-b235-45b1-9af1-c739c848fa49",
   "metadata": {},
   "source": [
    "This is indeed the correct simplification upon noting $-1 + x^2 = (1 + x)(1-x)$. On dividing through by $1+x$ we obtain the rational function $\\frac{-1 + x}{1}$."
   ]
  },
  {
   "cell_type": "code",
   "execution_count": null,
   "id": "b31da5a8-854a-4535-b8ee-35ae71f3b305",
   "metadata": {},
   "outputs": [],
   "source": []
  }
 ],
 "metadata": {
  "kernelspec": {
   "display_name": "Python 3",
   "language": "python",
   "name": "python3"
  },
  "language_info": {
   "codemirror_mode": {
    "name": "ipython",
    "version": 3
   },
   "file_extension": ".py",
   "mimetype": "text/x-python",
   "name": "python",
   "nbconvert_exporter": "python",
   "pygments_lexer": "ipython3",
   "version": "3.8.8"
  }
 },
 "nbformat": 4,
 "nbformat_minor": 5
}