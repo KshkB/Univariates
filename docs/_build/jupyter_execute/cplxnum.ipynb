{
 "cells": [
  {
   "cell_type": "markdown",
   "id": "a1861004-547b-40b3-9f43-f7efccef633f",
   "metadata": {},
   "source": [
    "# Complex numbers\n",
    "\n",
    "Like the real numbers, complex numbers form what is known as a *field*. This means all the familiar properties of real numbers such as addition, multiplication and division adapt straightforwardly to complex numbers. In the complex number system there is a very special number called the *complex unit*. It is denoted $i$ and it satisfies the curious formula,\n",
    "\n",
    "```{math}\n",
    "\n",
    "i^2 = -1.\n",
    "\n",
    "```\n",
    "\n",
    "Evidently, $i$ cannot be any real number. A *complex number* $z$ is always of the form\n",
    "\n",
    "```{math}\n",
    "\n",
    "z = x + yi\n",
    "\n",
    "```\n",
    "\n",
    "where $x$ and $y$ are real numbers. Here $x$ is the *real part* of $z$ while $y$ is the *imaginary part*. Complex numbers are a combination of their real and imaginary parts.\n",
    "\n",
    "## Libary import"
   ]
  },
  {
   "cell_type": "code",
   "execution_count": 1,
   "id": "2ba4442b-114f-41f0-b2d1-fc5d4f10971b",
   "metadata": {},
   "outputs": [],
   "source": [
    "from class_scripts import cplxnums as cx"
   ]
  },
  {
   "cell_type": "markdown",
   "id": "3322fbf8-6f3d-47da-973a-0467a21e966a",
   "metadata": {},
   "source": [
    "## Attributes\n",
    "\n",
    "In `cplxnums.py` we have the class `cplx`. Instances of `cplx` are complex numbers. Below are attributes of this class.\n"
   ]
  },
  {
   "cell_type": "code",
   "execution_count": 2,
   "id": "182796c2-904a-4470-a586-1c2a092b9511",
   "metadata": {},
   "outputs": [
    {
     "name": "stdout",
     "output_type": "stream",
     "text": [
      "Help on class cplx in module class_scripts.cplxnums:\n",
      "\n",
      "class cplx(builtins.object)\n",
      " |  cplx(coeffs)\n",
      " |  \n",
      " |  Methods defined here:\n",
      " |  \n",
      " |  __add__(self, other)\n",
      " |  \n",
      " |  __init__(self, coeffs)\n",
      " |      Initialize self.  See help(type(self)) for accurate signature.\n",
      " |  \n",
      " |  __mul__(self, other)\n",
      " |  \n",
      " |  __pow__(self, n)\n",
      " |  \n",
      " |  __repr__(self)\n",
      " |      Return repr(self).\n",
      " |  \n",
      " |  __str__(self)\n",
      " |      Return str(self).\n",
      " |  \n",
      " |  __sub__(self, other)\n",
      " |  \n",
      " |  __truediv__(self, other)\n",
      " |  \n",
      " |  mtrx(self)\n",
      " |  \n",
      " |  toPolar(self)\n",
      " |  \n",
      " |  ----------------------------------------------------------------------\n",
      " |  Static methods defined here:\n",
      " |  \n",
      " |  __new__(cls, coeffs)\n",
      " |      Create and return a new object.  See help(type) for accurate signature.\n",
      " |  \n",
      " |  ----------------------------------------------------------------------\n",
      " |  Data descriptors defined here:\n",
      " |  \n",
      " |  __dict__\n",
      " |      dictionary for instance variables (if defined)\n",
      " |  \n",
      " |  __weakref__\n",
      " |      list of weak references to the object (if defined)\n",
      " |  \n",
      " |  ----------------------------------------------------------------------\n",
      " |  Data and other attributes defined here:\n",
      " |  \n",
      " |  cplx_unit = [0, 1]\n",
      " |  \n",
      " |  significant_figures = 4\n",
      "\n"
     ]
    }
   ],
   "source": [
    "help(cx.cplx)"
   ]
  },
  {
   "cell_type": "markdown",
   "id": "10609c39-91a0-4725-9e23-35844f702890",
   "metadata": {},
   "source": [
    "The class `cplx` passes arrays of length two, `[x, y]`. The first entry `x` is the real part and second entry `y` is the imaginary part. When initialised, any complex number comes with these defining properties and its *norm-squared*, which is $x^2 + y^2$. \n",
    "\n",
    "For the complex unit $i$, its real part is `0` and imaginary part is `1`. Its attrubutes are:"
   ]
  },
  {
   "cell_type": "code",
   "execution_count": 3,
   "id": "a3d81fa4-588d-47c4-bd95-bf5315e9bdae",
   "metadata": {},
   "outputs": [
    {
     "name": "stdout",
     "output_type": "stream",
     "text": [
      "The real part of 0 + 1i is 0\n",
      "The imaginary part of 0 + 1i is 1\n",
      "The norm squared of 0 + 1i is 1\n"
     ]
    }
   ],
   "source": [
    "cplx_unit = cx.cplx([0, 1])\n",
    "\n",
    "print(f\"The real part of {cplx_unit} is {cplx_unit.re}\")\n",
    "print(f\"The imaginary part of {cplx_unit} is {cplx_unit.im}\")\n",
    "print(f\"The norm squared of {cplx_unit} is {cplx_unit.normsq}\")"
   ]
  },
  {
   "cell_type": "markdown",
   "id": "6d93e16b-b13b-40c2-b4cf-e726029b0294",
   "metadata": {},
   "source": [
    "Note that we have *printed* the complex unit above as `0 + 1i`. This is due to our modification of `__str__`. In raw form, the complex unit is represented as:"
   ]
  },
  {
   "cell_type": "code",
   "execution_count": 4,
   "id": "ba7505fd-8019-4222-b58a-8dad7dbce0b8",
   "metadata": {},
   "outputs": [
    {
     "name": "stdout",
     "output_type": "stream",
     "text": [
      "cplx([0, 1])\n"
     ]
    }
   ],
   "source": [
    "print(repr(cplx_unit))"
   ]
  },
  {
   "cell_type": "markdown",
   "id": "a9cb5b3e-de85-4dc2-99f0-3aff6cd7d9b1",
   "metadata": {},
   "source": [
    "### Complex number generator\n",
    "\n",
    "The following code generates instances of complex numbers with integral real and imaginary parts. It passes in `amt`, the amount of complex numbers to generate and `rng`, the integer range to sample for real and imaginary parts."
   ]
  },
  {
   "cell_type": "code",
   "execution_count": 5,
   "id": "9f977a85-908a-4fb9-8d45-8a9983dcae5c",
   "metadata": {},
   "outputs": [],
   "source": [
    "from random import randint\n",
    "\n",
    "def generateCplx(amt, rng):\n",
    "    cplx_nums = []\n",
    "    for _ in range(amt):\n",
    "        re = randint(rng[0], rng[-1])\n",
    "        im = randint(rng[0], rng[-1])\n",
    "        cplx_nums += [cx.cplx([re, im])]\n",
    "        \n",
    "    return cplx_nums\n"
   ]
  },
  {
   "cell_type": "markdown",
   "id": "5bfdf16a-8675-4f89-be99-f1bafb10e329",
   "metadata": {},
   "source": [
    "Below is a list of `10` complex numbers with integral real and imaginary parts between `-10` and `10`. Their norm-squared is printed alonside."
   ]
  },
  {
   "cell_type": "code",
   "execution_count": 6,
   "id": "7c9c428b-68f7-479d-b734-f27194c87389",
   "metadata": {},
   "outputs": [
    {
     "name": "stdout",
     "output_type": "stream",
     "text": [
      "For 2 + 0i its norm-squared is 4\n",
      "For 9 + 4i its norm-squared is 97\n",
      "For -2 - 4.0i its norm-squared is 20\n",
      "For -7 - 3.0i its norm-squared is 58\n",
      "For 2 + 1i its norm-squared is 5\n",
      "For -8 - 2.0i its norm-squared is 68\n",
      "For -6 - 6.0i its norm-squared is 72\n",
      "For -2 - 8.0i its norm-squared is 68\n",
      "For -1 - 2.0i its norm-squared is 5\n",
      "For 3 + 5i its norm-squared is 34\n"
     ]
    }
   ],
   "source": [
    "amt = 10\n",
    "rng = [-10, 10]\n",
    "\n",
    "cplx_num_lst = generateCplx(amt, rng)\n",
    "for num in cplx_num_lst:\n",
    "    print(f\"For {num} its norm-squared is {num.normsq}\")"
   ]
  },
  {
   "cell_type": "markdown",
   "id": "e6caf75b-d661-475e-b874-21b0d693dfda",
   "metadata": {},
   "source": [
    "## Arithmetic\n",
    "\n",
    "Complex numbers can be added, multiplied, subtracted and divided. Modifying the relevant the dunders allows for adapting `+, *, -, /` to instances of `cplx`. To illustrate, for the following two complex numbers\n",
    "\n",
    "$$\n",
    "\\begin{align}\n",
    "z_1 = -2 + 4i\n",
    "&&\n",
    "\\mbox{and}\n",
    "&&\n",
    "z_2 = 4 - i\n",
    "\\end{align}\n",
    "$$\n",
    "\n",
    "we will return:\n",
    "\n",
    "- $z_1 + z_2$;\n",
    "- $z_1 - z_2$;\n",
    "- $z_1 \\cdot z_2$;\n",
    "- $z_1/z_2$."
   ]
  },
  {
   "cell_type": "code",
   "execution_count": 7,
   "id": "6cad7ee0-23c6-4d65-8048-f40b80477f02",
   "metadata": {},
   "outputs": [
    {
     "name": "stdout",
     "output_type": "stream",
     "text": [
      "2 + 3i\n",
      "-6.0 + 5.0i\n",
      "-4.0 + 18.0i\n",
      "-0.7059 + 0.8235i\n"
     ]
    }
   ],
   "source": [
    "cplx_1 = cx.cplx([-2, 4])\n",
    "cplx_2 = cx.cplx([4, -1])\n",
    "\n",
    "print(cplx_1 + cplx_2)\n",
    "print(cplx_1 - cplx_2)\n",
    "print(cplx_1 * cplx_2)\n",
    "print(cplx_1 / cplx_2)"
   ]
  },
  {
   "cell_type": "markdown",
   "id": "edda9fc0-0592-4dde-9ce8-0ecdf91bd430",
   "metadata": {},
   "source": [
    "```{note}\n",
    "\n",
    "Decimal places are reported to `4` significant figures.\n",
    "\n",
    "```"
   ]
  },
  {
   "cell_type": "markdown",
   "id": "95bd61b9-3a6f-4655-8e50-6cd14b03ee02",
   "metadata": {},
   "source": [
    "### Integer powers\n",
    "\n",
    "With multiplication comes power. The dunder `__pow__` allows for adapting `**` to instances of `cplx`. As an illustration, below are the first `5` powers of the complex unit `i`.\n"
   ]
  },
  {
   "cell_type": "code",
   "execution_count": 8,
   "id": "f5916f87-9c23-4371-b5a9-044df32e3720",
   "metadata": {},
   "outputs": [
    {
     "name": "stdout",
     "output_type": "stream",
     "text": [
      "The 0-th power of 0 + 1i is: 1 + 0i\n",
      "The 1-th power of 0 + 1i is: 0 + 1i\n",
      "The 2-th power of 0 + 1i is: -1.0 + 0.0i\n",
      "The 3-th power of 0 + 1i is: 0.0 - 1.0i\n",
      "The 4-th power of 0 + 1i is: 1.0 + 0.0i\n",
      "The 5-th power of 0 + 1i is: 0.0 + 1.0i\n"
     ]
    }
   ],
   "source": [
    "for i in range(5 + 1):\n",
    "    print(f\"The {i}-th power of {cplx_unit} is: {cplx_unit**i}\")"
   ]
  },
  {
   "cell_type": "markdown",
   "id": "46bc5074-557e-4421-8fbc-fae04f2e7d56",
   "metadata": {},
   "source": [
    "## Matrix representation\n",
    "\n",
    "\n",
    "### Preliminaries \n",
    "\n",
    "It is possible to study complex numbers without ever mentioning the complex unit $i = \\sqrt{-1}$ and instead only considering real numbers. But what we gain in doing so is conceded by having to deal with matrices. \n",
    "\n",
    "To see why matrices are relevant, recall that any complex number $z$ is specified by two real numbers $x, y$. The correspondence $z \\mapsto (x, y)$ gives an *isomorphism* of sets $\\mathbb C\\cong \\mathbb R^2$. As the complex numbers form a field we have the operation of multiplication $\\mathbb C\\times \\mathbb C \\rightarrow \\mathbb C$. Equivalently (or rather, *dually*), any complex number $z$ can be thought of via the multiplication $z : \\lambda \\mapsto \\lambda \\cdot z$. Hence any complex number is a transformation $\\mathbb C \\rightarrow \\mathbb C$. Note that it is linear since $a\\lambda \\mapsto (a\\lambda) z = a(\\lambda z)$. Hence moreover, any complex number will be a *linear transformation*. Using that $\\mathbb C\\cong \\mathbb R^2$, we deduce that any complex number can be thought of as a linear transformation $\\mathbb R^2 \\rightarrow \\mathbb R^2$, i.e., as a $2\\times 2$ matrix.\n",
    "\n",
    "Explicitly, with $z = x + yi$, this $2\\times 2$ matrix representation is \n",
    "\n",
    "```{math}\n",
    "\n",
    "z = x + yi \\longleftrightarrow \\left(\\begin{array}{rr} x & -y\\\\ y & x\\end{array}\\right).\n",
    "\n",
    "```\n",
    "\n",
    "Let $M(z)$ denote the matrix representation of $z$. The unit $1$ and complex unit $i$ are represented respectively by,\n",
    "\n",
    "$$\n",
    "\\begin{align}\n",
    "M(1)\n",
    "= \n",
    "\\left(\\begin{array}{rr} 1 & 0\\\\ 0 & 1\\end{array}\\right)\n",
    "&&\\mbox{and}&&\n",
    "M(i)\n",
    "=\n",
    "\\left(\\begin{array}{rr} 0 & -1\\\\ 1 & 0\\end{array}\\right).\n",
    "\\end{align}\n",
    "$$\n",
    "\n",
    "A straightforward calculation will show for two any complex numbers $z_1, z_2$ that $M(z_1z_2) = M(z_1)M(z_2)$. Hence that $M : \\mathbb C \\rightarrow \\mathrm{GL}_2(\\mathbb R)$ defines a *representation* of the complex number field $\\mathbb C$ on the group of $2\\times 2$, real matrices.\n",
    "\n",
    "```{note}\n",
    "\n",
    "The representation $\\mathbb C \\stackrel{M}{\\rightarrow} \\mathrm{GL}_2(\\mathbb R)$ is \"faithful\", i.e., injective, since $M(z) = 0$ if and only if $z = 0 + 0i$.\n",
    "\n",
    "```\n",
    "\n",
    "### Implementation\n",
    "\n",
    "The class `cplx` in the module `cplxnum.py` contains the method `mtrx()`. Calling this on any instance of `cplx`, i.e., on any complex number $z$, returns its matrix representation $M(z)$. To illustrate, for the following complex numbers:\n",
    "\n",
    "- $1 + 0i$;\n",
    "- $0 + 1i$;\n",
    "- $-3 + 5i$\n",
    "\n",
    "their matrix representations are:\n"
   ]
  },
  {
   "cell_type": "code",
   "execution_count": 9,
   "id": "7d6b1b42-0e24-46b1-80dc-50f45ef33455",
   "metadata": {},
   "outputs": [
    {
     "name": "stdout",
     "output_type": "stream",
     "text": [
      "[[1 0]\n",
      " [0 1]]\n",
      "[[ 0 -1]\n",
      " [ 1  0]]\n",
      "[[-3 -5]\n",
      " [ 5 -3]]\n"
     ]
    }
   ],
   "source": [
    "unit = cx.cplx([1, 0])\n",
    "cplx_unit = cplx_unit\n",
    "cplx_3 = cx.cplx([-3, 5])\n",
    "\n",
    "\n",
    "cplx_nums_to_rep = [unit, cplx_unit, cplx_3]\n",
    "\n",
    "for cplx in cplx_nums_to_rep:\n",
    "    print(cplx.mtrx())\n"
   ]
  },
  {
   "cell_type": "markdown",
   "id": "bc28a197-6faf-4bc4-af45-f23038509ced",
   "metadata": {},
   "source": [
    "```{note}\n",
    "\n",
    "For any instance of `cplx`, the matrix representation method `mtrx()` returns a `numpy` array. \n",
    "\n",
    "```"
   ]
  },
  {
   "cell_type": "markdown",
   "id": "7703cac3-ae90-4cc0-8a87-c861f17048bc",
   "metadata": {},
   "source": [
    "### Recovering attributes\n",
    "\n",
    "From the matrix representation of a complex number $z$, its real and imaginary parts can be ontained as follows. Recall that the *trace* of a matrix is the sum of entries on its diagonal. Hence with $z = x + yi$ see that $\\mathrm{tr}~M(z) = 2x$. The real part of $z$ is therefore $\\frac{1}{2}\\mathrm{tr}~M(z)$. \n",
    "\n",
    "As for the imaginary part it is necessary to first multiply by $-i$. This has the effect of rotating real and imaginary to imaginary and real. The imaginary part of $z$ is therefore $\\frac{1}{2}\\mathrm{tr}~M(-zi)$. Since we know $M(z_1z_2) = M(z_1)M(z_2)$, we can obtain the imaginary part equivalently by $-\\frac{1}{2} \\mathrm{tr}(M(z)M(i))$.\n",
    "\n",
    "Concerning the norm squared attribute, it can be recovered as the determinant of the matrix representation. That is, if $\\|z\\|^2$ denotes the norm-squared of the complex number $z$ then \n",
    "\n",
    "```{math}\n",
    "\n",
    "\\|z\\|^2 = \\det M(z).\n",
    "\n",
    "```\n",
    "\n",
    "This makes it clear that the length of a complex number can be related to an area spanned by real vectors in two dimensions. We leave it to the intrepid reader of these documents to test these claims using the class `cplx`."
   ]
  },
  {
   "cell_type": "markdown",
   "id": "5e424c9c-9949-4954-a854-665a74527082",
   "metadata": {},
   "source": [
    "## Polar coordinates\n",
    "\n",
    "With an isomorphism $\\mathbb C \\cong \\mathbb R^2$, two important reference objects are defined: a *pole* and *axis*. The pole here is the origin $(0, 0)$; the axis is the $x$-axis. Through these objects, any complex number when mapped to a vector in $\\mathbb R^2$ can be faithfully represented by:\n",
    "\n",
    "- its distance from the pole, $r$; \n",
    "- the angle it makes with the $x$-axis, $\\varphi$.\n",
    "\n",
    "The image of a complex number in the $(r, \\varphi)$-plane is referred to as its *polar representation*. \n",
    "\n",
    "```{note}\n",
    "\n",
    "The distance $r$ is necessarily positive. \n",
    "\n",
    "```\n",
    "\n",
    "### Polar transformation\n",
    "\n",
    "The mapping of $z$ onto the polar coordinate plane is referred to as a *polar transformation*. For $z = x + yi$, it maps onto $\\mathbb R^2$ by $z\\mapsto (x, y)$. The polar transformation is obtained by specifying where the real and imaginary parts map to in the $(r, \\varphi)$-plane. Since $r$ is the distance to the pole, which in this case is the origin, see that \n",
    "\n",
    "```{math}\n",
    "\n",
    "r = \\sqrt{x^2 + y^2}.\n",
    "\n",
    "```\n",
    "\n",
    "With $r$ known, the angle $\\varphi$ made by $z$ and the $x$-axis is given by\n",
    "\n",
    "```{math}\n",
    "\n",
    "\\varphi \n",
    "=\n",
    "\\left\\{\n",
    "\\begin{array}{ll}\n",
    "\\arccos(x/r) & \\mbox{if $y \\geq 0, r\\neq0$}\n",
    "\\\\\n",
    "-\\arccos(x/r) & \\mbox{if $y< 0, r\\neq0$}\n",
    "\\\\\n",
    "\\mbox{undefined} & \\mbox{if $r = 0$.}\n",
    "\\end{array}\n",
    "\\right.\n",
    "\n",
    "```\n",
    "\n",
    "### Implementation\n",
    "\n",
    "The method `toPolar()`, callable on any instance of `cplx` sends a complex number to its polar representation. Recall the complex numbers from earlier:\n",
    "\n",
    "\n",
    "- $1 + 0i$;\n",
    "- $0 + 1i$;\n",
    "- $-3 + 5i$.\n",
    "\n",
    "Their polar representations are:\n"
   ]
  },
  {
   "cell_type": "code",
   "execution_count": 10,
   "id": "b87f67ad-129e-4f56-850b-e14223031bf3",
   "metadata": {},
   "outputs": [
    {
     "name": "stdout",
     "output_type": "stream",
     "text": [
      "(1.0, 0.0)\n",
      "(1.0, 1.5707963267948966)\n",
      "(5.830951894845301, 2.1112158270654806)\n"
     ]
    }
   ],
   "source": [
    "for cplx_num in cplx_nums_to_rep:\n",
    "    print(cplx_num.toPolar())"
   ]
  },
  {
   "cell_type": "markdown",
   "id": "70fca6c4-60e0-4d5f-a329-0c510095e8c4",
   "metadata": {},
   "source": [
    "Polar coordinates are a convenient coordinate system to express, model and graph complex systems and functions. In a forthcoming section on complex functions we will return to polar coordinate representations as a means to visualize and graph functions."
   ]
  },
  {
   "cell_type": "markdown",
   "id": "450d6722-013d-4aef-842d-8138a234800e",
   "metadata": {},
   "source": [
    "## Fractional powers\n",
    "\n",
    "### Preliminaries \n",
    "\n",
    "The polar transformation sends any complex number $z$ to a radial and angular coordinate $(r, \\varphi)$. This reflects the alternate representation of any complex number,\n",
    "\n",
    "```{math}\n",
    "\n",
    "z = re^{\\varphi i}.\n",
    "\n",
    "```\n",
    "\n",
    "With $z = x + yi$, Euler's identity states $x = r\\cos\\varphi$ and $y = r\\sin\\varphi$. That is,\n",
    "\n",
    "```{math}\n",
    "\n",
    "e^{\\varphi i} = \\cos\\varphi + (\\sin\\varphi) i.\n",
    "\n",
    "```\n",
    "\n",
    "The utility of this formula lies in calculating *fractional powers* of complex numbers. For any fraction $a/b$ we have \n",
    "\n",
    "$$\n",
    "\\begin{align}\n",
    "z^{a/b} \n",
    "&= (re^{\\varphi i})^{a/b} \n",
    "\\\\\n",
    "&= r^{a/b}e^{\\frac{a\\varphi}{b}i}\n",
    "\\\\\n",
    "&=\n",
    "r^{a/b}\\left(\\cos\\left(\\frac{a\\varphi}{b}\\right) + \\sin\\left(\\frac{a\\varphi}{b}\\right)i\\right)\n",
    "\\end{align}\n",
    "$$\n",
    "\n",
    "where $r^{a/b}$ is the fractional power of $r$ which, recall, is a real number. \n"
   ]
  },
  {
   "cell_type": "markdown",
   "id": "ec9c3128-9cd7-4762-acf8-ce450df37171",
   "metadata": {},
   "source": [
    "### Implementation\n",
    "\n",
    "In `cplxnums.py` the function `powFrac()` passes instances of `cplx` and a rational number. It returns their fractional power. To illustrate, consider the following complex number,\n",
    "\n",
    "```{math}\n",
    "\n",
    "z = -28 + 3i.\n",
    "\n",
    "```\n",
    "\n",
    "A fifth root, $z^{1/5}$, is:\n"
   ]
  },
  {
   "cell_type": "code",
   "execution_count": 11,
   "id": "e2729451-64cf-4d1e-96db-d75f7049155d",
   "metadata": {},
   "outputs": [
    {
     "name": "stdout",
     "output_type": "stream",
     "text": [
      "1.6013 + 1.112i\n"
     ]
    }
   ],
   "source": [
    "take_fifth_of_num = cx.cplx([-28, 3])\n",
    "print(cx.powFrac(take_fifth_of_num, 1/5))"
   ]
  },
  {
   "cell_type": "markdown",
   "id": "b8cbb9ee-4fd6-4e13-9480-873bfcd75882",
   "metadata": {},
   "source": [
    "As a check we have:"
   ]
  },
  {
   "cell_type": "code",
   "execution_count": 12,
   "id": "895533aa-04fc-48f0-95da-35fbc31e3b36",
   "metadata": {},
   "outputs": [
    {
     "name": "stdout",
     "output_type": "stream",
     "text": [
      "-28.0 + 3.0i\n"
     ]
    }
   ],
   "source": [
    "fifth_root_of_num = cx.powFrac(take_fifth_of_num, 1/5)\n",
    "\n",
    "print(fifth_root_of_num**5)"
   ]
  },
  {
   "cell_type": "markdown",
   "id": "fb120336-e4a9-4317-a115-feadefc39fe9",
   "metadata": {},
   "source": [
    "```{warning}\n",
    "\n",
    "Due to multi-valuedness of trigonometric functions, there are more fifth roots of $z$ than what we calculated above. Four more in fact. These can be found through multiplying by (primitive) roots of nity.\n",
    "\n",
    "```"
   ]
  },
  {
   "cell_type": "markdown",
   "id": "c8194dd1-d147-4dae-9a78-243a1742653d",
   "metadata": {},
   "source": [
    "### Roots of unity\n",
    "\n",
    "A famous equation among complex numbers is the equation for the unit,\n",
    "\n",
    "```{math}\n",
    "\n",
    "z^n = 1\n",
    "\n",
    "```\n",
    "\n",
    "for a given $n$. From the fundamental theorem of algebra there will be exactly $n$ solutions to the above equation, counted with multiplicity. \n",
    "\n",
    "```{note}\n",
    "\n",
    "In the case where $n$ is a prime number, there will be $n$ *distinct* solutions.\n",
    "\n",
    "```\n",
    "\n",
    "For each $n$, any solution to $z^n = 1$ is referred to as an *$n$-th root of unity*. The set of all $n$-th roots of unity forms what is known as a group. This is due to the following features:\n",
    "\n",
    "- if $z_1, z_2$ are solutions, then $z_1^n = 1$ and $z_2^n = 1$. Note that their product $z_1z_2$ will also be a root of unity, \n",
    "\n",
    "```{math}\n",
    "\n",
    "(z_1z_2)^n = z_1^nz_2^n = (1)(1) = 1;\n",
    "\n",
    "```\n",
    "- if $z^n = 1$ then $(1/z)^n = 1/z^n = 1/1 = 1$, so $1/z$ is a root of unity;\n",
    "- the unit $z = 1$ is itself a root of unity.\n",
    "\n",
    "Roots of polynomials $f$ (solutions to $f(x) =0)$ often involve forming fractional powers of complex numbers. The operation of forming such powers is also known as *root extraction* - an essential part of the notion of a radical. \n",
    "\n",
    "As we have seen above, there is an ambiguity here since there is no \"single\" root of a complex number. If any solution is known, multiplying it by powers of an appropriate root of unity recovers other solutions. In this way, roots of unity can efficiently allow for generating new solutions from old."
   ]
  },
  {
   "cell_type": "markdown",
   "id": "ff7f6caf-bb28-497a-8b14-3aa37fac7f15",
   "metadata": {},
   "source": [
    "The function `rootsUnity()` in `cplxnum.py` passses integers $n$ and returns a list of all $n$-rots of unity. For example, a list of all the $7$-th roots of unity is:"
   ]
  },
  {
   "cell_type": "code",
   "execution_count": 13,
   "id": "ff88fde6-91bf-4348-9999-d530339b9e76",
   "metadata": {},
   "outputs": [
    {
     "name": "stdout",
     "output_type": "stream",
     "text": [
      "a root is 1.0 + 0.0i. Its 7th power is 1.0 + 0.0i\n",
      "a root is 0.6235 + 0.7818i. Its 7th power is 0.9999 - 0.0002i\n",
      "a root is -0.2225 + 0.9749i. Its 7th power is 0.9998 - 0.0001i\n",
      "a root is -0.901 + 0.4339i. Its 7th power is 1.0002 + -0.0i\n",
      "a root is -0.901 - 0.4339i. Its 7th power is 1.0002 + 0.0i\n",
      "a root is -0.2225 - 0.9749i. Its 7th power is 0.9998 + 0.0001i\n",
      "a root is 0.6235 - 0.7818i. Its 7th power is 0.9999 + 0.0002i\n"
     ]
    }
   ],
   "source": [
    "seventh_roots = cx.rootsUnity(7)\n",
    "for rt in seventh_roots:\n",
    "    print(f\"a root is {rt}. Its 7th power is {rt**7}\")"
   ]
  },
  {
   "cell_type": "markdown",
   "id": "48631368-aa95-40d8-a2be-a9a639521f34",
   "metadata": {},
   "source": [
    "### Further application\n",
    "\n",
    "Recall earlier that we calculated a fifth root of `-28 + 3i`. To find the other four, we can multiply the solution we found by any fifth root of unity. \n",
    "\n",
    "```{note}\n",
    "\n",
    "In fact, we would need to take a *primitive* root of unity. Any root (except the unit) to a prime will be primitive however. E.g., since $5$ is prime, any $5$-th root of unity (other than `1`) will be a primitive root.\n",
    "\n",
    "```\n",
    "\n",
    "Recall that we labelled the number `-28 + 3i` as `take_fifth_root_of`. We obtained a fifth root which we labelled `fifth_root_of_num`. The other fifth roots of `-28 + 3i` are:"
   ]
  },
  {
   "cell_type": "code",
   "execution_count": 14,
   "id": "43dd84ba-e3ec-484b-8a65-e90a5abc35f4",
   "metadata": {},
   "outputs": [
    {
     "name": "stdout",
     "output_type": "stream",
     "text": [
      "1.5524 - 1.1793i\n",
      "-0.6419 - 1.8408i\n",
      "-1.9491 + 0.0416i\n",
      "-0.5627 + 1.8665i\n",
      "1.6013 + 1.112i\n"
     ]
    }
   ],
   "source": [
    "fifth_roots = cx.rootsUnity(5)\n",
    "fifth_root = fifth_roots[-1]\n",
    "\n",
    "all_fifth_roots = []\n",
    "for i in range(1, 5+1):\n",
    "    all_fifth_roots += [fifth_root_of_num * (fifth_root**i)]\n",
    "    \n",
    "print(*all_fifth_roots, sep = '\\n')"
   ]
  },
  {
   "cell_type": "markdown",
   "id": "5f9cd0f6-b5e2-4c22-81c3-77c26f306c10",
   "metadata": {},
   "source": [
    "As a consistency check we can return the fifth power of each number in `all_fifth_roots` to ensure we indeed recover the original number `-28 + 3i`. And so, up to floating point error, we have:"
   ]
  },
  {
   "cell_type": "code",
   "execution_count": 15,
   "id": "9fbaea7c-e8c4-48e7-b321-965cb9c0013e",
   "metadata": {},
   "outputs": [
    {
     "name": "stdout",
     "output_type": "stream",
     "text": [
      "-28.0015 + 2.9989i\n",
      "-27.999 + 3.0022i\n",
      "-28.0019 + 2.9992i\n",
      "-27.9968 + 3.0003i\n",
      "-28.0017 + 2.9987i\n"
     ]
    }
   ],
   "source": [
    "for root in all_fifth_roots:\n",
    "    print(root**5)"
   ]
  },
  {
   "cell_type": "markdown",
   "id": "57bdeda2-558f-41d4-8146-37b38e2b1ad8",
   "metadata": {},
   "source": [
    "as expected.\n",
    "\n",
    "```{note}\n",
    "\n",
    "In this example we chose the fifth root of unity `fifth_root = fifth_roots[-1]`. We could of course choose any other (non-unit) fifth root of unity, e.g., `fifth_root = fifth_roots[-2]` or `fifth_root = fifth_roots[-3]`. This would return the same fifth roots of `-28 + 3i`, albeit in a different order.\n",
    "\n",
    "```"
   ]
  },
  {
   "cell_type": "markdown",
   "id": "357d7f22-cd2c-4a00-b980-08dfde3353ea",
   "metadata": {},
   "source": [
    "## Evaluation\n",
    "\n",
    "With the arithmetic of complex numbers established, it will be possible to evaluate general polynomials on complex numbers. The appropriate method to call is `cplxEval()` on any instance of `Poly`. This method passes an instance of `cplx` and returns an instance of `cplx`. \n",
    "\n",
    "As an illustration, consider the polynomial $f(x) = 1 + x^2$. On the complex number $i$ we have:\n"
   ]
  },
  {
   "cell_type": "code",
   "execution_count": 16,
   "id": "3731324b-b155-4088-a687-d344bdb64af6",
   "metadata": {},
   "outputs": [
    {
     "name": "stdout",
     "output_type": "stream",
     "text": [
      "0.0 + 0.0i\n"
     ]
    }
   ],
   "source": [
    "from class_scripts import polynomial as pnml\n",
    "\n",
    "c_num = pnml.cplx([0, 1])\n",
    "poly_to_evaluate = pnml.Poly([1, 0, 1])\n",
    "\n",
    "print(poly_to_evaluate.cplxEval(c_num))"
   ]
  },
  {
   "cell_type": "markdown",
   "id": "454a04d4-3a31-4557-9e59-b7a3d71d3a46",
   "metadata": {},
   "source": [
    "```{note}\n",
    "\n",
    "In the above code block we import `polynomial.py` from the directory `class_scripts`. And in `class_scripts/polynomial.py` we have the code from `cplxnum.py`. In order to run code from *one* script we write our complex number here as `c_num = pnml.cplx([0, 1])` instead of `cx.cplx([0, 1])` as in earlier parts of this document. Calling `cplxEval()` and passing `cx.cplx([0, 1])` would result in a type error here. \n",
    "\n",
    "```"
   ]
  },
  {
   "cell_type": "code",
   "execution_count": null,
   "id": "a52ddd46-8f39-47d9-880b-1af32107d312",
   "metadata": {},
   "outputs": [],
   "source": []
  }
 ],
 "metadata": {
  "kernelspec": {
   "display_name": "Python 3",
   "language": "python",
   "name": "python3"
  },
  "language_info": {
   "codemirror_mode": {
    "name": "ipython",
    "version": 3
   },
   "file_extension": ".py",
   "mimetype": "text/x-python",
   "name": "python",
   "nbconvert_exporter": "python",
   "pygments_lexer": "ipython3",
   "version": "3.8.8"
  }
 },
 "nbformat": 4,
 "nbformat_minor": 5
}