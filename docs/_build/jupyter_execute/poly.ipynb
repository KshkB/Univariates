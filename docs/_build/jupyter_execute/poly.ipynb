{
 "cells": [
  {
   "cell_type": "markdown",
   "id": "4f6d7a35-a7f4-48ed-be6a-63e8059dce1b",
   "metadata": {},
   "source": [
    "# Polynomials (basics)\n",
    "\n",
    "In one variable $x$, a polynomial $x \\stackrel{f}{\\mapsto} y$ is given by a finite sum,\n",
    "\n",
    "```{math}\n",
    "\n",
    "y = f(x) = \\sum_{i = 0}^n a_ix^i.\n",
    "\n",
    "```\n",
    "\n",
    "Any polynomial $f$ is specified by a finite string of parameters $(a_0, a_1, \\ldots, a_n)$ called its *coefficients*. If the coefficients are real numbers, $f$ is a *real* polynomial; if they are complex, $f$ is a *complex* polynomial; if they are integers, $f$ is an *integral* polynomial and if they are rational numbers, $f$ is a *rational* polynomial.\n",
    "\n",
    "```{warning}\n",
    "\n",
    "Rational polynomials are not to be confused with rational *functions*.\n",
    "\n",
    "```\n"
   ]
  },
  {
   "cell_type": "markdown",
   "id": "4bcaa91c-7a6b-45e7-94eb-418fdf601b26",
   "metadata": {},
   "source": [
    "## Mathematical background\n",
    "\n",
    "These prefixes for $f$ (real, complex, integral, rational) are properties of its coefficients. They do not imply anything about the intermediate $x$. Here $x$ is a coordinate and could be valued in any algebraic structure $R$ where the *scalars* in $R$ are one of these prefixes. That is, it must make sense to form $ax$ and $ax + bx$ for scalars $a, b$, which may be real, complex, integral, rational, etc.\n",
    "\n",
    "Let $\\mathbb K$ be the ring (usually, field) of scalars. So $\\mathbb K$ could be $\\mathbb R, \\mathbb C, \\mathbb Z, \\mathbb Q$. Formally, the intermediate $x$ is a coordinate on *affine space over $\\mathbb K$*, denoted $\\mathbb A_{\\mathbb K}$. That is, it is a function on $\\mathbb A_{\\mathbb K}$. \n",
    "\n",
    "```{note}\n",
    "\n",
    "We distinguish here between spaces and functions on spaces. So here, $\\mathbb A_{\\mathbb K}$ is a space in the topological sense while $x$ is a function on $\\mathbb A_{\\mathbb K}$.\n",
    "\n",
    "```\n",
    "\n",
    "Unlike for spaces, the set of functions on a space forms a nice algebraic structure - a *ring*. It makes sense to add and multiply functions; it does not necessarily make sense to add and multiply points in a space. The set of (suitably global) functions on $\\mathbb A_{\\mathbb K}$ is denoted $\\mathbb K[x]$. It is precisely the ring of *all polynomials in one variable $x$ with coefficients in $\\mathbb K$*.\n",
    "\n",
    "There is a formal, duality relation between the affine space $\\mathbb A_{\\mathbb K}$ and the ring of polynomials $\\mathbb K[x]$. The space $\\mathbb A_{\\mathbb K}$ is the *spectrum* of $\\mathbb K[x]$. And dually, as we have seen, the ring $\\mathbb K[x]$ are the *(global) functions* on $\\mathbb A_{\\mathbb K}$.\n",
    "\n",
    "\n",
    "```{note}\n",
    "\n",
    "More formally still, $\\mathbb K[x]$ are the global sections of the structure sheaf of $\\mathbb K$-regular functions on $\\mathbb A_{\\mathbb K}$. But we don't need to get the mafia of sheaves involved in our business here.\n",
    "\n",
    "```\n",
    "\n",
    "As a final remark, the space $\\mathbb A_{\\mathbb K}$ is one dimensional. The generalization to higher dimensions will proceed along lines one might expect. Affine spaces of dimension $n$, denoted $\\mathbb A^n_{\\mathbb K}$, are characterized *as* the spectrum of the polynomial ring $\\mathbb K[x_1, \\ldots, x_n]$.\n"
   ]
  },
  {
   "cell_type": "markdown",
   "id": "4c960861-1dac-4980-8a62-3f955f9d03cd",
   "metadata": {},
   "source": [
    "## The polynomial class\n",
    "\n",
    "We will now describe and illustrate the methods in the polynomial class `Poly`, found in the module `polynomial.py`.\n",
    "\n",
    "### Library imports\n",
    "\n",
    "While preparing this documentation, we store modules coding our function classes in the file `class_scripts`. Below is the appropriate library import of the module `polynomial.py`. It is only necessary for preparing these documents."
   ]
  },
  {
   "cell_type": "code",
   "execution_count": 1,
   "id": "f3e123da-f54a-4bde-bfe3-aff25a850c08",
   "metadata": {},
   "outputs": [],
   "source": [
    "from class_scripts import polynomial as pnml"
   ]
  },
  {
   "cell_type": "markdown",
   "id": "7b527642-1b55-4e69-9bb4-4c247603b5f6",
   "metadata": {},
   "source": [
    "### Class methods\n",
    "\n",
    "The class `Poly` is coded in the module `polynomial.py`. Calling `help` on this class reveals all the methods available therein."
   ]
  },
  {
   "cell_type": "code",
   "execution_count": 2,
   "id": "1b6fda3d-8a2c-4e61-9f8f-59e0a21fa967",
   "metadata": {},
   "outputs": [
    {
     "name": "stdout",
     "output_type": "stream",
     "text": [
      "Help on class Poly in module class_scripts.polynomial:\n",
      "\n",
      "class Poly(builtins.object)\n",
      " |  Poly(coeffs)\n",
      " |  \n",
      " |  Methods defined here:\n",
      " |  \n",
      " |  AreaUnder(self, rng)\n",
      " |  \n",
      " |  Hdiff(self, n)\n",
      " |  \n",
      " |  Hintgr(self, n)\n",
      " |  \n",
      " |  SylvesterMatrix(self, other)\n",
      " |  \n",
      " |  __add__(self, other)\n",
      " |  \n",
      " |  __eq__(self, other)\n",
      " |      Return self==value.\n",
      " |  \n",
      " |  __init__(self, coeffs)\n",
      " |      Initialize self.  See help(type(self)) for accurate signature.\n",
      " |  \n",
      " |  __mul__(self, other)\n",
      " |  \n",
      " |  __pow__(self, n)\n",
      " |  \n",
      " |  __repr__(self)\n",
      " |      Return repr(self).\n",
      " |  \n",
      " |  __str__(self)\n",
      " |      Return str(self).\n",
      " |  \n",
      " |  __sub__(self, other)\n",
      " |  \n",
      " |  __truediv__(self, other)\n",
      " |  \n",
      " |  coeff(self, i)\n",
      " |  \n",
      " |  composeWith(self, other)\n",
      " |  \n",
      " |  cplxEval(self, arg)\n",
      " |  \n",
      " |  diff(self)\n",
      " |  \n",
      " |  discriminant(self)\n",
      " |  \n",
      " |  eval(self, num)\n",
      " |  \n",
      " |  gcd(self, other)\n",
      " |  \n",
      " |  intgr(self)\n",
      " |  \n",
      " |  resultant(self, other)\n",
      " |  \n",
      " |  ----------------------------------------------------------------------\n",
      " |  Static methods defined here:\n",
      " |  \n",
      " |  __new__(cls, coeffs)\n",
      " |      Create and return a new object.  See help(type) for accurate signature.\n",
      " |  \n",
      " |  ----------------------------------------------------------------------\n",
      " |  Data descriptors defined here:\n",
      " |  \n",
      " |  __dict__\n",
      " |      dictionary for instance variables (if defined)\n",
      " |  \n",
      " |  __weakref__\n",
      " |      list of weak references to the object (if defined)\n",
      " |  \n",
      " |  ----------------------------------------------------------------------\n",
      " |  Data and other attributes defined here:\n",
      " |  \n",
      " |  __hash__ = None\n",
      " |  \n",
      " |  significant_figures = 4\n",
      "\n"
     ]
    }
   ],
   "source": [
    "help(pnml.Poly)"
   ]
  },
  {
   "cell_type": "markdown",
   "id": "498689fe-e2ff-443a-b92f-fadaf36debf5",
   "metadata": {},
   "source": [
    "### Attributes and representation\n",
    "\n",
    "\n",
    "As mentioned earlier, polynomials are determined by properties of their coefficients. This justifies initializing any instance of the `Poly` by a tuple of coefficients $(a_0, \\ldots, a_n)$. Any instance of `Poly` is, after all, a polynomial. When initialized, it has attributes `poly.coeffs` and `poly.degree`. These return the coefficients and the degree respectively of any instance of `Poly`.\n",
    "\n",
    "To illustrate, consider the following polynomial\n",
    "\n",
    "```{math}\n",
    "\n",
    "y = f(x) = 1 + 2x\n",
    "\n",
    "```\n",
    "\n",
    "Its coefficients are $(1, 2)$. Passing this into `Poly` gives the polynomial object:"
   ]
  },
  {
   "cell_type": "code",
   "execution_count": 3,
   "id": "3d3eb8cb-aef9-4975-8ef3-63ccc5b830f6",
   "metadata": {},
   "outputs": [
    {
     "data": {
      "text/plain": [
       "Poly([1, 2])"
      ]
     },
     "execution_count": 3,
     "metadata": {},
     "output_type": "execute_result"
    }
   ],
   "source": [
    "poly = pnml.Poly([1, 2])\n",
    "poly"
   ]
  },
  {
   "cell_type": "markdown",
   "id": "ff5e3fe4-ed85-4945-831b-ef07cb573501",
   "metadata": {},
   "source": [
    "The instance `poly` has the following attributes:"
   ]
  },
  {
   "cell_type": "code",
   "execution_count": 4,
   "id": "046077dd-59b0-4e83-ae3a-362267c7c0d5",
   "metadata": {},
   "outputs": [
    {
     "name": "stdout",
     "output_type": "stream",
     "text": [
      "The coefficients defining Poly([1, 2]) are [1, 2]\n",
      "The degree of Poly([1, 2]) is 1\n"
     ]
    }
   ],
   "source": [
    "print(f\"The coefficients defining {repr(poly)} are {poly.coeffs}\")\n",
    "print(f\"The degree of {repr(poly)} is {poly.degree}\")"
   ]
  },
  {
   "cell_type": "markdown",
   "id": "d8c7d794-544c-4b17-813e-7359de26ad61",
   "metadata": {},
   "source": [
    "The method `coeff()` passes an integer `i` and returns the `i`-th coefficient. Concerning the above example:"
   ]
  },
  {
   "cell_type": "code",
   "execution_count": 5,
   "id": "c8217b3f-8e6a-4632-a4a1-ff05e1e624a6",
   "metadata": {},
   "outputs": [
    {
     "name": "stdout",
     "output_type": "stream",
     "text": [
      "The 0-th coefficient of Poly([1, 2]) is 1\n",
      "The 1-th coefficient of Poly([1, 2]) is 2\n"
     ]
    }
   ],
   "source": [
    "for i in range(poly.degree + 1):\n",
    "    print(f\"The {i}-th coefficient of {repr(poly)} is {poly.coeff(i)}\")"
   ]
  },
  {
   "cell_type": "markdown",
   "id": "a6ec632d-49c3-469f-b78f-5da84d7fc288",
   "metadata": {},
   "source": [
    "```{note}\n",
    "\n",
    "If the index `i` is outside the range of coefficients, the method `coeff()` does not raise an index error as one might expect. Instead it returns `None`.\n",
    "\n",
    "```"
   ]
  },
  {
   "cell_type": "markdown",
   "id": "48f9cb79-6f55-408d-9455-ab2087b76958",
   "metadata": {},
   "source": [
    "Note here that `Poly([1, 2])` is the literal representation of an instance of `Poly`. The dunder `__str__` in `Poly` returns instances in a more human readable form, as follows:"
   ]
  },
  {
   "cell_type": "code",
   "execution_count": 6,
   "id": "b25bc172-350a-42e4-986d-2a14743a8002",
   "metadata": {},
   "outputs": [
    {
     "name": "stdout",
     "output_type": "stream",
     "text": [
      "In more human readable form, Poly([1, 2]) is presented as: 1x^0 + 2x^1 \n"
     ]
    }
   ],
   "source": [
    "print(f\"In more human readable form, {repr(poly)} is presented as: {poly}\")"
   ]
  },
  {
   "cell_type": "markdown",
   "id": "f0ee916a-1335-4325-9915-24cb70a98f9f",
   "metadata": {},
   "source": [
    "The `__str__` method also allows for easy-to-read representation of negative signs. Consider the polynomials\n",
    "\n",
    "$$\n",
    "\\begin{align}\n",
    "g(x) \n",
    "&= -2 + x - 4x^2;\n",
    "\\\\\n",
    "h(x)\n",
    "&= -x^2 + 2x^5\n",
    "\\end{align}\n",
    "$$\n",
    "\n",
    "These are printed as follows."
   ]
  },
  {
   "cell_type": "code",
   "execution_count": 7,
   "id": "b38e8aef-a2be-42cd-af9b-d13d988de8d6",
   "metadata": {},
   "outputs": [
    {
     "name": "stdout",
     "output_type": "stream",
     "text": [
      "g(x) is -2x^0 + 1x^1 - 4x^2 \n",
      "h(x) is -1x^2 + 2x^5 \n"
     ]
    }
   ],
   "source": [
    "poly_1 = pnml.Poly([-2, 1, -4])\n",
    "poly_2 = pnml.Poly([0, 0, -1, 0, 0, 2])\n",
    "\n",
    "print(f\"g(x) is {poly_1}\")\n",
    "print(f\"h(x) is {poly_2}\")"
   ]
  },
  {
   "cell_type": "markdown",
   "id": "762a655c-b5e4-45e1-8d88-c85b3f7a9020",
   "metadata": {},
   "source": [
    "```{warning}\n",
    "\n",
    "Note that only tuples and lists are passable in `Poly`. Running `Poly(a)` for a scalar (number) `a` will accordingly result in a type error. In order to represent scalars as instances of `Poly` we need to pass the tuple `(a)` or list `[a]`. E.g., `Poly([1])` instead of `Poly(1)`.\n",
    "\n",
    "```\n"
   ]
  },
  {
   "cell_type": "markdown",
   "id": "fbe409ee-5259-48e8-8045-458575d3574d",
   "metadata": {},
   "source": [
    "#### The zero polynomial\n",
    "\n",
    "The zero polynomial `Poly([0])` is printed as `The zero polynomial`. Don't be fooled by the print statement however. It is still represented as an honest instance of `Poly`, as calling `repr` will illustrate. See the following code block."
   ]
  },
  {
   "cell_type": "code",
   "execution_count": 8,
   "id": "e7472c79-df9f-49b0-b5d3-657312a9ffcf",
   "metadata": {},
   "outputs": [
    {
     "name": "stdout",
     "output_type": "stream",
     "text": [
      "The zero polynomial.\n",
      "Poly([0])\n"
     ]
    }
   ],
   "source": [
    "zero_poly = pnml.Poly([0])\n",
    "\n",
    "print(zero_poly)\n",
    "print(repr(zero_poly))"
   ]
  },
  {
   "cell_type": "markdown",
   "id": "5bc3ca3e-1efa-47ac-80ae-fe777d5d37f7",
   "metadata": {},
   "source": [
    "#### Random instances of `Poly`\n",
    "\n",
    "\n",
    "With the class `Poly` defined, it is easy to generate random instances of `Poly`. Parameters to specify are: its degree and the range of possible values for its coefficients.\n",
    "\n",
    "The following code draws on `random.randint` to generate integral polynomials."
   ]
  },
  {
   "cell_type": "code",
   "execution_count": 9,
   "id": "2dfc64d1-773e-434c-ae55-5b312b75d083",
   "metadata": {},
   "outputs": [],
   "source": [
    "from random import randint\n",
    "\n",
    "def generateNonzero(coeff_rng):\n",
    "    num = randint(coeff_rng[0], coeff_rng[-1])\n",
    "    if num != 0:\n",
    "        return num\n",
    "    else:\n",
    "        return generateNonzero(coeff_rng)\n",
    "\n",
    "def generatePoly(degree, coeff_rng):\n",
    "    coeffs = []\n",
    "    for _ in range(degree):\n",
    "        coeffs += [randint(coeff_rng[0], coeff_rng[-1])]\n",
    "        \n",
    "    leading_coeff = generateNonzero(coeff_rng)\n",
    "    coeffs += [leading_coeff]\n",
    "    \n",
    "    return pnml.Poly(coeffs)\n"
   ]
  },
  {
   "cell_type": "markdown",
   "id": "77e16780-3ede-4b74-8a69-c5a2637d2ce4",
   "metadata": {},
   "source": [
    "Utilizing the function `generateNonzero()` guarantees that the polynomial generated by `generatePoly()` will have the specified degree.\n",
    "\n",
    "```{note} \n",
    "\n",
    "In `generatePoly` we return `pnml.Poly` since the module `polynomial.py` is imported in this notebook as `pnml`. \n",
    "\n",
    "```\n",
    "\n",
    "The following is a list of six randomly generated, cubic polynomials whose coefficients are sampled from `-10` to `10`."
   ]
  },
  {
   "cell_type": "code",
   "execution_count": 10,
   "id": "97d1930b-89a9-44d3-bee2-d4b14b006f5e",
   "metadata": {},
   "outputs": [
    {
     "name": "stdout",
     "output_type": "stream",
     "text": [
      "Random polynomial number 0: -6x^0 + 5x^1 - 6x^2 + 7x^3 \n",
      "Random polynomial number 1: 6x^0 - 8x^1 - 5x^2 - 6x^3 \n",
      "Random polynomial number 2: 9x^0 + 3x^1 + 4x^2 + 8x^3 \n",
      "Random polynomial number 3: 9x^0 - 7x^1 + 3x^2 - 1x^3 \n",
      "Random polynomial number 4: 8x^0 + 4x^1 - 1x^2 + 3x^3 \n",
      "Random polynomial number 5: 7x^0 + 5x^1 - 9x^2 - 6x^3 \n"
     ]
    }
   ],
   "source": [
    "degree = 3\n",
    "coeff_rng = [-10, 10]\n",
    "\n",
    "for _ in range(6):\n",
    "    print(f\"Random polynomial number {_}: {generatePoly(degree, coeff_rng)}\")"
   ]
  },
  {
   "cell_type": "markdown",
   "id": "5bee013e-1cf5-4549-b7a7-4cc557d2d6e6",
   "metadata": {},
   "source": [
    "### Further remarks\n",
    "\n",
    "It is worth mentioning that in `__new__`, before initialising any `Poly` object, the coefficient list passed is checked for any trailing zeroes. Trailing zeroes are deleted. This is accordance with degree $n$ polynomials being polynomials whose $n$-th coefficient is *non-zero*. E.g., the polynoimal $1 + 0x$ has degree *zero*, not degree one. \n",
    "\n",
    "To illustrate, the following polynomial defined by coefficient list `[-1, 3, 2, 0, 0, 0, 3, 0, 0, 0, 0, 0]` is reprsented and printed as:\n"
   ]
  },
  {
   "cell_type": "code",
   "execution_count": 11,
   "id": "c5653a94-2722-44cf-aa96-e42e08b06ed2",
   "metadata": {},
   "outputs": [
    {
     "name": "stdout",
     "output_type": "stream",
     "text": [
      "in code format: Poly([-1, 3, 2, 0, 0, 0, 3])\n",
      "in more human readable format: -1x^0 + 3x^1 + 2x^2 + 3x^6 \n",
      "the length of the coefficient list is 12 but the polynomial degree is: 6\n"
     ]
    }
   ],
   "source": [
    "print(f\"in code format: {repr(pnml.Poly([-1, 3, 2, 0, 0, 0, 3, 0, 0, 0, 0, 0]))}\")\n",
    "print(f\"in more human readable format: {pnml.Poly([-1, 3, 2, 0, 0, 0, 3, 0, 0, 0, 0, 0])}\")\n",
    "print(f\"the length of the coefficient list is {len([-1, 3, 2, 0, 0, 0, 3, 0, 0, 0, 0, 0])} but the polynomial degree is: {pnml.Poly([-1, 3, 2, 0, 0, 0, 3, 0, 0, 0, 0, 0]).degree}\")"
   ]
  },
  {
   "cell_type": "markdown",
   "id": "e6abe40f-1ee8-421b-8c46-fbd96b3e6019",
   "metadata": {},
   "source": [
    "## Arithmetic \n",
    "\n",
    "The set of polynomials over a field of scalars $\\mathbb K$ forms a ring. This means we can add, subtract and multiply polynomials. We can also combine these operations with scalars since there is a ring embedding $i:\\mathbb K \\subset \\mathbb K[x]$ given by $a \\mapsto i(a)$, where $i(a)$ is the constant function:\n",
    "\n",
    "```{math}\n",
    "\n",
    "(i(a))(x) = a.\n",
    "\n",
    "```\n",
    "\n",
    "Recall the earlier warning that `Poly(a)` for any number `a` results in a type error. However, `Poly([a])` will return an instance of `Poly`. We can interpret `a` to be an element of $\\mathbb K$ while `[a]` is its image $i(a)$ in $\\mathbb K[x]$. "
   ]
  },
  {
   "cell_type": "markdown",
   "id": "d7fc6e94-1fd2-4956-8bf4-90495a33c977",
   "metadata": {},
   "source": [
    "### Evaluation\n",
    "\n",
    "For any polynomial $f(x)$ and scalar $\\lambda$, the evaluation function sends $f(x) \\mapsto f(\\lambda)$. The method  `eval()` on any instance of `Poly` playes the role of evaluation. To see this consider the polynomial,\n",
    "\n",
    "```{math}\n",
    "\n",
    "f(x) = -1 + 5x + x^3 -7x^4 + 2x^6\n",
    "\n",
    "```\n",
    "\n",
    "Evaluating $f$ at the scalar value `107` is implemented as follows:"
   ]
  },
  {
   "cell_type": "code",
   "execution_count": 12,
   "id": "e41444e9-c949-4384-b3d6-18fd89d10c06",
   "metadata": {},
   "outputs": [
    {
     "name": "stdout",
     "output_type": "stream",
     "text": [
      "3000544372068\n"
     ]
    }
   ],
   "source": [
    "poly_to_eval = pnml.Poly([-1, 5, 0, 1, -7, 0, 2])\n",
    "scalar = 107\n",
    "\n",
    "print(poly_to_eval.eval(scalar))"
   ]
  },
  {
   "cell_type": "markdown",
   "id": "19def1ac-4b6a-49b7-8992-eb1da3db7205",
   "metadata": {},
   "source": [
    "### Implementation\n",
    "\n",
    "In the class `Poly`, the dunders `__add__`, `__mul__`, `__sub__` and `__truediv__` allow for extending the familiar operators `+, *, -, /` to instances of `Poly`. \n",
    "\n",
    "```{Note} \n",
    "\n",
    "The division `/` will not yield a rational function however, as the ratio of one polynomial to another is typically understood. It will instead perform polynomial long division (imported from Python's `numpy` library) and return the divisor and remainder as instances of `Poly`. In particular, it will return two instances of `Poly`. \n",
    "\n",
    "```\n",
    "\n",
    "To see these arithmetical operations implemented, consider the following two polynomials:\n",
    "\n",
    "$$\n",
    "\\begin{align}\n",
    "f(x) = 1 + x\n",
    "&&\n",
    "\\mbox{and}\n",
    "&&\n",
    "g(x) = -1 + x.\n",
    "\\end{align}\n",
    "$$\n",
    "\n",
    "In what follows we will return:\n",
    "\n",
    "- $f(x) + g(x)$\n",
    "- $f(x) - g(x)$\n",
    "- $f(x)\\cdot g(x)$\n",
    "- $f(x)/g(x)$."
   ]
  },
  {
   "cell_type": "code",
   "execution_count": 13,
   "id": "f1e2ffa7-ceb4-48eb-96b5-22936f7faf4a",
   "metadata": {},
   "outputs": [
    {
     "name": "stdout",
     "output_type": "stream",
     "text": [
      "2x^1 \n",
      "2x^0 \n",
      "-1.0x^0 + 1.0x^2 \n",
      "[Poly([1.0]), Poly([2.0])]\n"
     ]
    }
   ],
   "source": [
    "poly_f = pnml.Poly([1, 1])\n",
    "poly_g = pnml.Poly([-1, 1])\n",
    "\n",
    "print(poly_f + poly_g)\n",
    "print(poly_f - poly_g)\n",
    "print(poly_f * poly_g)\n",
    "print(poly_f / poly_g)"
   ]
  },
  {
   "cell_type": "markdown",
   "id": "f6d3b46c-0a07-4124-9bf5-9642edd035a5",
   "metadata": {},
   "source": [
    "#### The remainder theorem\n",
    "\n",
    "Another characterisation of polynomial evaluation is by extracting a remainder. That is, in order to evaluate a polynomial $f(x)$ at a particular value $x = \\lambda$, form the polynomial $g(x) = x - \\lambda$, divide $f$ by $g$ and extract the remainder. The remainder of $f(x)/g(x)$ is precisely $f(\\lambda)$. This result is referred to as the *Polynomial remainder theorem*. See [this Wikipedia article](https://en.wikipedia.org/wiki/Polynomial_remainder_theorem) for more details.\n",
    "\n",
    "To see this in practice, recall that we evaluated the polynomial $f(x) = -1 + 5x + x^3 -7x^4 + 2x^6$ at $x = 107$ above, yielding the value `3000544372068`. We evaluated this by calling the `eval()` method, which in turn is coded as a direct computation. Via polynomial long division, we can calculate $f/(x - 107)$ and extract the remainder. \n",
    "This is implemented in the following code block."
   ]
  },
  {
   "cell_type": "code",
   "execution_count": 14,
   "id": "8304500d-53ca-402e-876d-b86a9e8224a6",
   "metadata": {},
   "outputs": [
    {
     "name": "stdout",
     "output_type": "stream",
     "text": [
      "3000544372068.0x^0 \n"
     ]
    }
   ],
   "source": [
    "poly_divide_by = pnml.Poly([-scalar, 1])\n",
    "poly_division = poly_to_eval / poly_divide_by\n",
    "remainder = poly_division[-1]\n",
    "\n",
    "print(remainder)"
   ]
  },
  {
   "cell_type": "markdown",
   "id": "06edde41-c105-42e5-9a94-d4d312bab93e",
   "metadata": {},
   "source": [
    "Recall that we set `scalar = 107` earlier. As expected, the remainder above coincides with `poly_to_eval.eval(scalar)`. "
   ]
  },
  {
   "cell_type": "markdown",
   "id": "84d2fa08-26c6-4509-b6bf-94b117fca285",
   "metadata": {},
   "source": [
    "### Powers\n",
    "\n",
    "With multiplication between instances of `Poly` defined, it is straightforward to adapt `__pow__` to `Poly`, allowing for using `**`. To illustrate, the first five powers of $g(x) = -1 + x$ from above can be obtained as follows:"
   ]
  },
  {
   "cell_type": "code",
   "execution_count": 15,
   "id": "8bf35802-393b-4157-b2f4-029c88ce95f4",
   "metadata": {
    "tags": []
   },
   "outputs": [
    {
     "name": "stdout",
     "output_type": "stream",
     "text": [
      "g(x) to the 0-th power: 1x^0 \n",
      "g(x) to the 1-th power: -1x^0 + 1x^1 \n",
      "g(x) to the 2-th power: 1.0x^0 - 2.0x^1 + 1.0x^2 \n",
      "g(x) to the 3-th power: -1.0x^0 + 3.0x^1 - 3.0x^2 + 1.0x^3 \n",
      "g(x) to the 4-th power: 1.0x^0 - 4.0x^1 + 6.0x^2 - 4.0x^3 + 1.0x^4 \n",
      "g(x) to the 5-th power: -1.0x^0 + 5.0x^1 - 10.0x^2 + 10.0x^3 - 5.0x^4 + 1.0x^5 \n"
     ]
    }
   ],
   "source": [
    "for i in range(6):\n",
    "    print(f\"g(x) to the {i}-th power: {poly_g**i}\")"
   ]
  },
  {
   "cell_type": "markdown",
   "id": "8a061a60-fb9d-4058-9257-d844fcd8306a",
   "metadata": {},
   "source": [
    "### Polynomial composition\n",
    "\n",
    "In the one dimensional case, polynomials can be unambiguously composed with one another. This is because, at the level of spaces, a polynomial $f$ over $\\mathbb K$ is defines a morphism $\\mathbb A_{\\mathbb K} \\stackrel{f}{\\rightarrow} \\mathbb A_{\\mathbb K}$. Hence with two polynomials $f, g : \\mathbb A_{\\mathbb K} \\rightarrow \\mathbb A_{\\mathbb K}$ it makes sense to form the composite $h = f\\circ g$ where,\n",
    "\n",
    "```{math}\n",
    "\n",
    "h: \\mathbb A_{\\mathbb K} \\stackrel{g}{\\longrightarrow} \\mathbb A_{\\mathbb K} \\stackrel{f}{\\longrightarrow} \\mathbb A_{\\mathbb K}.\n",
    "\n",
    "```\n",
    "\n",
    "When represented in coordinates, if $f(x) = \\sum_i a_ix^i$ and $g(x) = \\sum_j b_j x^j$, then\n",
    "\n",
    "```{math}\n",
    "\n",
    "h(x) = (f\\circ g)(x) = \\sum_i a_i (g(x))^i = \\sum_{i, j} a_i b_j^ix^{i+j}.\n",
    "\n",
    "```\n",
    "\n",
    "Note now, with `__mul__` and `__pow__` methods defined for the class `Poly`, code implementing the evaluation method `eval()` can be generalised straightforwardly to implement polynomial composition. This is done through the method `composeWith()` on any instance.\n",
    "\n",
    "To illustrate, consider polynomials \n",
    "\n",
    "$$\n",
    "\\begin{align}\n",
    "f(x) = 2x^2\n",
    "&&\n",
    "\\mbox{and}\n",
    "&& \n",
    "g(x) = 1 + x^3\n",
    "\\end{align}\n",
    "$$\n",
    "\n",
    "The composition is,\n",
    "\n",
    "```{math}\n",
    "\n",
    "h(x)\n",
    "=\n",
    "(f\\circ g)(x)\n",
    "=\n",
    "2(1 + x^3)^2\n",
    "=\n",
    "2 + 4x^3 + 2x^6\n",
    "\n",
    "```\n",
    "\n",
    "This is implemented in the class `Poly` as follows:"
   ]
  },
  {
   "cell_type": "code",
   "execution_count": 16,
   "id": "d7fb5b01-f72f-46e8-afc9-2e90d61da20e",
   "metadata": {},
   "outputs": [
    {
     "name": "stdout",
     "output_type": "stream",
     "text": [
      "2.0x^0 + 4.0x^3 + 2.0x^6 \n"
     ]
    }
   ],
   "source": [
    "first_poly_composite = pnml.Poly([0, 0, 2])\n",
    "second_poly_composite = pnml.Poly([1, 0, 0, 1])\n",
    "\n",
    "print(first_poly_composite.composeWith(second_poly_composite))"
   ]
  },
  {
   "cell_type": "markdown",
   "id": "7fe9627f-22be-43bf-8bae-8cd85a495df0",
   "metadata": {},
   "source": [
    "## Calculus \n",
    "\n",
    "### Differentiation\n",
    "\n",
    "A *monomial* is a particularly simple kind of polynomial - a polynomial with one term. Accordingly, any monomial in one variable is of the form\n",
    "\n",
    "```{math}\n",
    "\n",
    "ax^i\n",
    "\n",
    "```\n",
    "\n",
    "for scalar $a$ and degree $i$. Polynomials are, evidently, finite sums of monomials. Differentiation is a linear operator so in order to differentiate polynomials it suffices know how to differentiate monomials. An exercise in applying Newton's quotient definition of differentiation yields,\n",
    "\n",
    "```{math}\n",
    "\n",
    "\\frac{d}{dx} (ax^i) = iax^{i-1}.\n",
    "\n",
    "```\n",
    "\n",
    "Observe that the derivative of a monomial is again a monimial. Hence, the derivative of polynomials are polynomials. This justifies implementing differentiation as a method in the class `Poly`. It is implemented as `diff()`. For the following polynomial,\n",
    "\n",
    "```{math}\n",
    "\n",
    "f(x) = -3 + 4x^2 + x^5\n",
    "\n",
    "```\n",
    "\n",
    "its derivative is:"
   ]
  },
  {
   "cell_type": "code",
   "execution_count": 17,
   "id": "97fcaada-30df-402a-b5a4-6c1a2190bbed",
   "metadata": {},
   "outputs": [
    {
     "name": "stdout",
     "output_type": "stream",
     "text": [
      "8x^1 + 5x^4 \n"
     ]
    }
   ],
   "source": [
    "poly_to_diff = pnml.Poly([-3, 0, 4, 0, 0, 1])\n",
    "\n",
    "print(poly_to_diff.diff())"
   ]
  },
  {
   "cell_type": "markdown",
   "id": "e11d1a6d-1dda-4361-92f5-e29fdf0d8e4e",
   "metadata": {},
   "source": [
    "#### Higher order differentiation\n",
    "\n",
    "Differentiation preserves the class of polynomials, in the sense that the derivative operator on a polynomial returns a polynomial. As such it makes sense to use `diff()` to recursively define differeniation to any specified order. In `Poly` this is implemented as the method `Hdiff()` which passes an integer $n$ and returns the $n$-order derivative operator $d^n/dx^n$. \n",
    "\n",
    "On the polynomial $f(x) = -3 + 4x^2 + x^5$ we can readily print derivatives of any order. Derivatives of $f(x)$ up to $7$-th order are:"
   ]
  },
  {
   "cell_type": "code",
   "execution_count": 18,
   "id": "73fc1c25-6955-4a74-b115-cdb941f86233",
   "metadata": {},
   "outputs": [
    {
     "name": "stdout",
     "output_type": "stream",
     "text": [
      "The 0-th derivative of -3x^0 + 4x^2 + 1x^5  is: -3x^0 + 4x^2 + 1x^5 \n",
      "The 1-th derivative of -3x^0 + 4x^2 + 1x^5  is: 8x^1 + 5x^4 \n",
      "The 2-th derivative of -3x^0 + 4x^2 + 1x^5  is: 8x^0 + 20x^3 \n",
      "The 3-th derivative of -3x^0 + 4x^2 + 1x^5  is: 60x^2 \n",
      "The 4-th derivative of -3x^0 + 4x^2 + 1x^5  is: 120x^1 \n",
      "The 5-th derivative of -3x^0 + 4x^2 + 1x^5  is: 120x^0 \n",
      "The 6-th derivative of -3x^0 + 4x^2 + 1x^5  is: The zero polynomial.\n",
      "The 7-th derivative of -3x^0 + 4x^2 + 1x^5  is: The zero polynomial.\n"
     ]
    }
   ],
   "source": [
    "for i in range(7 + 1):\n",
    "    print(f\"The {i}-th derivative of {poly_to_diff} is: {poly_to_diff.Hdiff(i)}\")"
   ]
  },
  {
   "cell_type": "markdown",
   "id": "4e021805-2f38-4ab5-965a-79ec5048e709",
   "metadata": {},
   "source": [
    "### Integration\n",
    "\n",
    "Like differentiation, (indefinite) integration of monomials are monimials. For the monimial $ax^i$,\n",
    "\n",
    "```{math}\n",
    "\n",
    "\\int ax^idx\n",
    "=\n",
    "\\frac{a}{i+1}x^{i+1}.\n",
    "\n",
    "```\n",
    "\n",
    "By linearity then, integration of polynomials are polynomials. Integration is implemented by the `intgr()` method in `Poly`. For the following polynomial,\n",
    "\n",
    "```{math}\n",
    "\n",
    "f(x) = 5 - 3 x^4\n",
    "\n",
    "```\n",
    "\n",
    "its integral is implemented as follows:"
   ]
  },
  {
   "cell_type": "code",
   "execution_count": 19,
   "id": "0f50da3b-04fc-48d6-8af3-19b5739d9534",
   "metadata": {},
   "outputs": [
    {
     "name": "stdout",
     "output_type": "stream",
     "text": [
      "The (indefinite) integral of 5x^0 - 3x^4  is: 5.0x^1 - 0.6x^5 \n"
     ]
    }
   ],
   "source": [
    "to_intgr = pnml.Poly([5, 0, 0, 0, -3])\n",
    "\n",
    "print(f\"The (indefinite) integral of {to_intgr} is: {to_intgr.intgr()}\")"
   ]
  },
  {
   "cell_type": "markdown",
   "id": "aafde530-b225-4459-98eb-dac0fdaa44f2",
   "metadata": {},
   "source": [
    "The derivative of the integral of a function is the original function. And so as a consistency check on our integrated function $f(x)$:"
   ]
  },
  {
   "cell_type": "code",
   "execution_count": 20,
   "id": "432faa0e-b65c-437c-b504-74c1cbf03c2d",
   "metadata": {},
   "outputs": [
    {
     "name": "stdout",
     "output_type": "stream",
     "text": [
      "The derivative of the integral of 5x^0 - 3x^4  is: 5.0x^0 - 3.0x^4 \n"
     ]
    }
   ],
   "source": [
    "integrated = to_intgr.intgr()\n",
    "\n",
    "print(f\"The derivative of the integral of {to_intgr} is: {integrated.diff()}\")"
   ]
  },
  {
   "cell_type": "markdown",
   "id": "3cf38573-2ba4-4588-a902-6443a8fcf32b",
   "metadata": {},
   "source": [
    "#### Higher order integration\n",
    "\n",
    "Since integration returns polynomials, it is possible to iteratively define integration of any order, much like differentiation. Higher order integration is implemented through the method `Hintgr()`. This method passes in an integer and returns an integral to that order.\n",
    "\n",
    "On our function $f(x) = 5 - 3x^4$ above, its integral to $5$ orders is implemented and printed below:"
   ]
  },
  {
   "cell_type": "code",
   "execution_count": 21,
   "id": "97e1073e-a748-4083-9f33-57db97c15ce9",
   "metadata": {},
   "outputs": [
    {
     "name": "stdout",
     "output_type": "stream",
     "text": [
      "The integral of 5x^0 - 3x^4  to 0-th order is: 5x^0 - 3x^4 \n",
      "The integral of 5x^0 - 3x^4  to 1-th order is: 5.0x^1 - 0.6x^5 \n",
      "The integral of 5x^0 - 3x^4  to 2-th order is: 2.5x^2 - 0.1x^6 \n",
      "The integral of 5x^0 - 3x^4  to 3-th order is: 0.8333x^3 - 0.0143x^7 \n",
      "The integral of 5x^0 - 3x^4  to 4-th order is: 0.2083x^4 - 0.0018x^8 \n",
      "The integral of 5x^0 - 3x^4  to 5-th order is: 0.0417x^5 - 0.0002x^9 \n"
     ]
    }
   ],
   "source": [
    "for i in range(6):\n",
    "    print(f\"The integral of {to_intgr} to {i}-th order is: {to_intgr.Hintgr(i)}\")"
   ]
  },
  {
   "cell_type": "markdown",
   "id": "30cb4c8b-5776-4d70-b9a0-a057e3db4166",
   "metadata": {},
   "source": [
    "```{note}\n",
    "\n",
    "Inspection of `__str__` shows, in the print statement, that the coefficients are printed to four significant figures. To change this, change the entry `sig_figures` accordingly.\n",
    "\n",
    "```"
   ]
  },
  {
   "cell_type": "markdown",
   "id": "6e3a9b17-4963-41cb-90a5-72096d558977",
   "metadata": {},
   "source": [
    "#### Area under the curve\n",
    "\n",
    "The fundamental theorem of calculus for functions of one variable states: that for an integrable function $f(x)$ and a range $[a, b]$,\n",
    "\n",
    "```{math}\n",
    "\n",
    "\\int_{[a, b]} f(x)dx = (\\int f(x)dx)(b) - (\\int f(x) dx)(a)\n",
    "\n",
    "```\n",
    "\n",
    "where $\\int f(x) dx$ is the indefinite integral of $f$. Calling the method `AreaUnder()` on any `Poly` instance and passing in a range `[a, b]` returns the area bounded by the polynomial $f(x)$, the $x$-axis and vertical lines at $x = a$ and $a = b$.\n",
    "\n",
    "To illustrate, the area under $f(x) = 3x^4$ between the range $[-1, 4]$ is:"
   ]
  },
  {
   "cell_type": "code",
   "execution_count": 22,
   "id": "c67501e6-9a1a-4873-877c-797925fdc54d",
   "metadata": {},
   "outputs": [
    {
     "name": "stdout",
     "output_type": "stream",
     "text": [
      "615.0\n"
     ]
    }
   ],
   "source": [
    "poly_area = pnml.Poly([0, 0, 0, 0, 3])\n",
    "\n",
    "print(poly_area.AreaUnder([-1, 4]))"
   ]
  },
  {
   "cell_type": "markdown",
   "id": "4e65b6e5-a6ed-466e-abdc-f78192b64168",
   "metadata": {},
   "source": [
    "## Greatest common divisor\n",
    "\n",
    "\n",
    "### Background \n",
    "\n",
    "As with integers, for two polynomials $f, g$ there is always a common divisor, namely the unit polynomial $1$. In further similarity, it is possible to find larger common divisors. Recall that a polynomial $h$ *divides* $f$ if, in the polynomial long division $f/h$, the remainder is the zero polynomial. Euclid's famous algorithm for finding the greatest common divisor for two integers can be adapted straightforwardly for finding the greatest common divisor for two univariate polynomials. \n",
    "\n",
    "We decribe the algorithm in what follows. Let $f, g$ be two univariate polynomials. Suppose that $\\deg f \\geq \\deg g$. Then the polynomial long division states that there exist polynomials $(f_1, f_2)$ such that \n",
    "\n",
    "```{math}\n",
    "\n",
    "f = gf_1 + f_2\n",
    "\n",
    "```\n",
    "\n",
    "with $\\deg f_2 < \\deg g$. Here $f_2$ is the remainder in the division $f/g$. \n",
    "\n",
    "Remember, we want to find the greatest *common* divisor of $f, g$ which means a polynomial $h$ which divides both $f$ and $g$. Now, in the case $f_2 = 0$ above, the remainder of $f/g$ is zero. Hence $f = gf_1$. Since $f_1$ is polynomial, it follows that $f$ is divisible by $g$. Now, $g$ is also divisible by $g$ so therefore the greatest common divisor will be the denominator $g$.\n",
    "\n",
    "In the case $f_2$ is *not* the zero polynomial, we need to check divisibility for $g$. Now in order for $f$ and $g$ to have a common divisor, note that it is equivalent for $g$ and $f_2$ to have a common divisor. Since $\\deg f_2 < \\deg g$ we can divide $g$ by $f_2$ to get the next relation,\n",
    "\n",
    "```{math}\n",
    "\n",
    "g = f_2 g_1 + g_2\n",
    "\n",
    "```\n",
    "\n",
    "with $g_2$ the remainder of $g/f_2$. If $g_2$ now is the zero polynomial, we find that $g$ is divisible by $f_2$. Consequently, with $f = gf_1 + f_2$, this means $f$ will also be divisible by $f_2$. Hence that $f_2$ will be the greatest common divisor.\n",
    "\n",
    "If $g_2$ is *not* the zero polynomial, we can repeat this process now for the pair of remainders $f_2, g_2$ noting that $\\gcd(f, g) = \\gcd(f_2, g_2)$.\n",
    "\n",
    "```{note}\n",
    "\n",
    "This algorithm will terminate since the degrees of $f_2, g_2$ are less than the original polynomials $f, g$. That is, with $\\deg g \\leq \\deg f$ we will eventually arrive at a base case, which is the case where $g$ is a linear form (a polynomial of degree *one*). \n",
    "\n",
    "```\n",
    "\n",
    "### Implementation\n",
    "\n",
    "Euclid's algoritm for finding the greatest common divisor of two polynomial is callable through the method `gcd()` on any instance of `Poly`. As an illustration, let $f(x) = 1 + 2x + x^2$ and $g(x) = x+1$. Their greatest common divisor is then:"
   ]
  },
  {
   "cell_type": "code",
   "execution_count": 23,
   "id": "36958c02-5b32-4056-8637-5ba7625d9181",
   "metadata": {},
   "outputs": [
    {
     "name": "stdout",
     "output_type": "stream",
     "text": [
      "1x^0 + 1x^1 \n"
     ]
    }
   ],
   "source": [
    "find_divisor_1 = pnml.Poly([1, 2, 1])\n",
    "find_divisor_2 = pnml.Poly([1, 1,])\n",
    "\n",
    "print(find_divisor_1.gcd(find_divisor_2))"
   ]
  },
  {
   "cell_type": "markdown",
   "id": "78ef4768-b082-4f2f-9d59-f0ef5abf98fb",
   "metadata": {},
   "source": [
    "Indeed, in this example $f(x) = 1 + 2x + x^2 = (1 + x)^2$."
   ]
  },
  {
   "cell_type": "code",
   "execution_count": null,
   "id": "bba64ac5-98ff-457a-9eeb-31917d76c1f7",
   "metadata": {},
   "outputs": [],
   "source": []
  }
 ],
 "metadata": {
  "kernelspec": {
   "display_name": "Python 3",
   "language": "python",
   "name": "python3"
  },
  "language_info": {
   "codemirror_mode": {
    "name": "ipython",
    "version": 3
   },
   "file_extension": ".py",
   "mimetype": "text/x-python",
   "name": "python",
   "nbconvert_exporter": "python",
   "pygments_lexer": "ipython3",
   "version": "3.8.8"
  }
 },
 "nbformat": 4,
 "nbformat_minor": 5
}