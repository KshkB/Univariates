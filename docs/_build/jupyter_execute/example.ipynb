{
 "cells": [
  {
   "cell_type": "markdown",
   "id": "4f6d7a35-a7f4-48ed-be6a-63e8059dce1b",
   "metadata": {},
   "source": [
    "# Polynomials\n",
    "\n",
    "## Preliminaries"
   ]
  },
  {
   "cell_type": "code",
   "execution_count": 1,
   "id": "f3e123da-f54a-4bde-bfe3-aff25a850c08",
   "metadata": {},
   "outputs": [],
   "source": [
    "import os, sys\n",
    "sys.path.append(os.path.abspath('../../'))\n",
    "from polyonevar_class import polynomial as pnml\n"
   ]
  },
  {
   "cell_type": "code",
   "execution_count": 2,
   "id": "13419155-9bfe-48df-a72d-5e18eaf8cf90",
   "metadata": {},
   "outputs": [
    {
     "name": "stdout",
     "output_type": "stream",
     "text": [
      "2x^0 + 1x^1 \n"
     ]
    }
   ],
   "source": [
    "print(pnml.Poly([2, 1]))"
   ]
  },
  {
   "cell_type": "code",
   "execution_count": null,
   "id": "86324a6e-445d-4603-b1ba-4dc799649f42",
   "metadata": {},
   "outputs": [],
   "source": []
  }
 ],
 "metadata": {
  "kernelspec": {
   "display_name": "Python 3",
   "language": "python",
   "name": "python3"
  },
  "language_info": {
   "codemirror_mode": {
    "name": "ipython",
    "version": 3
   },
   "file_extension": ".py",
   "mimetype": "text/x-python",
   "name": "python",
   "nbconvert_exporter": "python",
   "pygments_lexer": "ipython3",
   "version": "3.8.8"
  }
 },
 "nbformat": 4,
 "nbformat_minor": 5
}