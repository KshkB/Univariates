{
 "cells": [
  {
   "cell_type": "markdown",
   "id": "9a16c9ee-ab99-493a-a7ab-fd8aa22a2a18",
   "metadata": {},
   "source": [
    "# Quadratic univariates\n",
    "\n",
    "Quadratic polynomials are polynomials of degree *two*. If the polynomials are in one variable, they are univariate polynomials. Quadratic univariate polynomials are therefore polynomials in one variable of degree *two*. These are referred to simply as quadratic univariates. \n",
    "\n",
    "```{note}\n",
    "\n",
    "A quadratic might also refer to a *homogeneous* polynomial of degree two. In this document, by quadratic it is  meant a not-necessarily-homogeneous, degree two polynomial. \n",
    "\n",
    "```\n",
    "\n",
    "Any quadratic univariate $f(x)$ is of the form\n",
    "\n",
    "```{math}\n",
    "\n",
    "f(x) = c + bx + ax^2\n",
    "\n",
    "```\n",
    "\n",
    "for coefficients $(a, b, c)$. As quadratic univariates are univariate polynomials, it makes sense to form the class of quadratic univariates as a subclass of polynomials.\n",
    "\n",
    "## Library import\n",
    "\n",
    "In the module `quadratics` we find the class `Quadratic` coded as a subclass of `Poly`. Below is the libary import."
   ]
  },
  {
   "cell_type": "code",
   "execution_count": 1,
   "id": "72c1e1b3-a776-41d7-83be-6ea5d729d9b5",
   "metadata": {},
   "outputs": [],
   "source": [
    "from class_scripts import quadratics as qd"
   ]
  },
  {
   "cell_type": "markdown",
   "id": "349922e2-28f3-44db-8df1-0cfadfee1229",
   "metadata": {},
   "source": [
    "## Attributes\n",
    "\n",
    "### Pre-initialisation\n",
    "\n",
    "As with `Poly` the class `Quadratic`, being a subclass of `Poly`, has the same attributes. Importantly however, if we pass an array encoding a polynomial with does *not* have degree two, it is not quadratic and this is detected by `__new__`. \n",
    "\n",
    "To illustrate, if we pass the arrays `[1, 2]` and `[-3, 2, 4, 1]` which encode the polynomials $1 + 2x$ and $-3 + 2x + 4x^2 + x^3$ the class `Quadratic` returns:\n"
   ]
  },
  {
   "cell_type": "code",
   "execution_count": 2,
   "id": "c85201f7-189b-4e0b-acdd-bdecad929b93",
   "metadata": {},
   "outputs": [
    {
     "name": "stdout",
     "output_type": "stream",
     "text": [
      "Not quadratic\n",
      "Not quadratic\n"
     ]
    }
   ],
   "source": [
    "print(qd.Quadratic([1, 2]))\n",
    "print(qd.Quadratic([-3, 2, 4, 1]))"
   ]
  },
  {
   "cell_type": "markdown",
   "id": "d1f17516-b518-47e7-ad7c-5d1e53567229",
   "metadata": {},
   "source": [
    "Similarly, if we pass `[1, 2, 0]`, this array encodes $1 + 2x + 0x^2$. The class `Quadratic` will nevertheless return:"
   ]
  },
  {
   "cell_type": "code",
   "execution_count": 3,
   "id": "36f1c9db-0965-44de-b210-3043c0714357",
   "metadata": {},
   "outputs": [
    {
     "name": "stdout",
     "output_type": "stream",
     "text": [
      "Not quadratic\n"
     ]
    }
   ],
   "source": [
    "print(qd.Quadratic([1, 2, 0]))"
   ]
  },
  {
   "cell_type": "markdown",
   "id": "1050b342-df8d-4ece-9b1a-10f3bf042862",
   "metadata": {},
   "source": [
    "Attempting to then return an attribute will result in an attribute error. \n",
    "\n",
    "### Initialisation\n",
    "\n",
    "For an honest quadratic $f(x) = c + bx + ax^2$, it has all the attributes and methods callable on instances of `Poly`. Moreover, it has its discriminant $b^2 - 4ac$ as an attribute.\n",
    "\n",
    "```{note}\n",
    "\n",
    "It is of course possible to call `discriminant()` on an instance of `Quadratic`. This involves forming the derivative, the Sylvester matrix, taking its determinant and multiplying by an appropriate factor. If a  polynomial function of the coefficients is already known, it is much faster to form this instead. This is what is formed by the attribute `disc`.\n",
    "\n",
    "```\n",
    "\n",
    "\n",
    "To illustrate, for the quadratic $f(x) = -9 + x + 4x^2$ its attributes are:"
   ]
  },
  {
   "cell_type": "code",
   "execution_count": 4,
   "id": "591b5ecc-6101-449a-a324-d4765f9ab753",
   "metadata": {},
   "outputs": [
    {
     "name": "stdout",
     "output_type": "stream",
     "text": [
      "The polynomial is: -9x^0 + 1x^1 + 4x^2 \n",
      "Its coefficient list is: [-9, 1, 4]\n",
      "Its degree is: 2\n",
      "Its discriminant is: 145\n"
     ]
    }
   ],
   "source": [
    "quad_f = qd.Quadratic([-9, 1, 4])\n",
    "\n",
    "print(f\"The polynomial is: {quad_f}\")\n",
    "print(f\"Its coefficient list is: {quad_f.coeffs}\")\n",
    "print(f\"Its degree is: {quad_f.degree}\")\n",
    "print(f\"Its discriminant is: {quad_f.disc}\")"
   ]
  },
  {
   "cell_type": "markdown",
   "id": "92454c7d-85df-4bd5-bbb8-188fe408dfc3",
   "metadata": {},
   "source": [
    "As a quick test, to see that the `discriminant()` method called on `quad_f` as an instance of `Poly` will agree with `quad_f.disc` above, we have:"
   ]
  },
  {
   "cell_type": "code",
   "execution_count": 5,
   "id": "5232ed4b-feff-4cbe-b1f9-baf69388fdce",
   "metadata": {},
   "outputs": [
    {
     "name": "stdout",
     "output_type": "stream",
     "text": [
      "145.0\n"
     ]
    }
   ],
   "source": [
    "print(quad_f.discriminant())"
   ]
  },
  {
   "cell_type": "markdown",
   "id": "c37ad685-faf3-4ac9-affc-9a95cd4501f1",
   "metadata": {},
   "source": [
    "## Zeroes\n",
    "\n",
    "For a quadratic univariate $f(x) = c + bx + ax^2$, $x_0$ is a zero of $f(x)$ if:\n",
    "\n",
    "```{math}\n",
    "\n",
    "c + bx_0 + ax_0^2 = 0.\n",
    "\n",
    "```\n",
    "\n",
    "From the fundamental theorem of algebra, $f$ has degree two so it has two zeroes $x_1, x_2\\in \\mathbb C$. Since the real numbers are not algebraically closed, $f$ can have *at most* two real zeroes.\n",
    "\n",
    "\n",
    "From the coefficients of the quadratic $f$, its zeroes are:\n",
    "\n",
    "$$\n",
    "\\begin{align}\n",
    "x_1 = \\frac{-b + \\sqrt{b^2 - 4ac}}{2a}\n",
    "&&\n",
    "\\mbox{and}\n",
    "&&\n",
    "x_2 = \\frac{-b - \\sqrt{b^2 - 4ac}}{2a}\n",
    "\\end{align}\n",
    "$$\n",
    "\n",
    "See in this case that we indeed have an *algebraic* (but not polynomial) function of the coefficients $(a, b, c)$ of the quadratic $f$.\n",
    "\n",
    "### Nature of zeroes\n",
    "\n",
    "The polynomials coded as instances of `Poly` are all *real* polynomials. That is, their coefficients are real numbers. Similarly, instances of `Quadratic` are *real* quadratic univariates. For any real quadratic univariate, both of its zeroes will be either real or complex. This can be deduced directly from the analytic expression for the roots above:\n",
    "\n",
    "- if the discriminant $b^2 - 4ac$ is strictly greater than zero, both roots are real;\n",
    "- if the discriminant $b^2 - 4ac$ is equal to zero, there is one real root counted with multiplicity two;\n",
    "- if the discriminant $b^2 - 4ac$ is strictly less than zero, both roots are complex.\n",
    "\n",
    "The method `zeroes()` on any instance of `Quadratic` returns its zeroes. Based on values of its discriminant, it will return a $2$-tuple of real numbers or a $2$-tuple of complex numbers which are instances of `cplx`.\n",
    "\n",
    "For the following quadratics:\n",
    "\n",
    "- $-12 + 2x^2$;\n",
    "- $1 - 2x + x^2$;\n",
    "- $5 + 2x + 3x^2$\n",
    "\n",
    "we return below their discriminant and their zeroes:"
   ]
  },
  {
   "cell_type": "code",
   "execution_count": 6,
   "id": "4af6693d-6f03-48ad-baa4-839e9949cede",
   "metadata": {},
   "outputs": [
    {
     "name": "stdout",
     "output_type": "stream",
     "text": [
      "for -12x^0 + 2x^2 :\n",
      "its discriminant is: 96\n",
      "its zeroes are: ('2.449489742783178', '-2.449489742783178')\n",
      "\n",
      "for 1x^0 - 2x^1 + 1x^2 :\n",
      "its discriminant is: 0\n",
      "its zeroes are: ('1.0', '1.0')\n",
      "\n",
      "for 5x^0 - 2x^1 + 3x^2 :\n",
      "its discriminant is: -56\n",
      "its zeroes are: ('0.3333 + 1.2472i', '0.3333 - 1.2472i')\n",
      "\n"
     ]
    }
   ],
   "source": [
    "qd_1 = qd.Quadratic([-12, 0, 2])\n",
    "qd_2 = qd.Quadratic([1, -2, 1])\n",
    "qd_3 = qd.Quadratic([5, -2, 3])\n",
    "\n",
    "qd_list = [qd_1, qd_2, qd_3]\n",
    "for q in qd_list:\n",
    "    print(f\"for {q}:\\nits discriminant is: {q.disc}\\nits zeroes are: {(str(q.zeroes()[0]), str(q.zeroes()[-1]))}\\n\")\n",
    "                                                                       "
   ]
  },
  {
   "cell_type": "markdown",
   "id": "3c8391c1-70da-494b-8137-a08af5430057",
   "metadata": {},
   "source": [
    "The value of a quadratic at a zero must be zero. And so, as a sanity check, we need to evaluate each quadratic in `qd_list` at the zeroes to make sure we indeed returned a zero. Note, since zeroes may be complex numbers, i.e., instances of `cplx`, we need to use the method `cplxEval()` from `Poly` instead of `eval()`. We see that:"
   ]
  },
  {
   "cell_type": "code",
   "execution_count": 7,
   "id": "dae72afa-6fea-4299-889c-a5d518ed0125",
   "metadata": {},
   "outputs": [
    {
     "name": "stdout",
     "output_type": "stream",
     "text": [
      "-0.0\n",
      "-0.0\n",
      "\n",
      "\n",
      "0.0\n",
      "0.0\n",
      "\n",
      "\n",
      "0.0 + 0.0i\n",
      "0.0 + 0.0i\n",
      "\n",
      "\n"
     ]
    }
   ],
   "source": [
    "for q in qd_list:\n",
    "    q_zros = q.zeroes()\n",
    "    for zro in q_zros:\n",
    "        if isinstance(zro, float):\n",
    "            print(round(q.cplxEval(zro), 5))\n",
    "        else:\n",
    "            print(q.cplxEval(zro))\n",
    "    print('\\n')"
   ]
  },
  {
   "cell_type": "markdown",
   "id": "c2a3cb27-8f16-4a3a-94ab-4714ccad4b03",
   "metadata": {},
   "source": [
    "As expected each quadratic in `qd_list`, evaluated at each zero, returns zero."
   ]
  },
  {
   "cell_type": "markdown",
   "id": "2649d626-43a0-453a-9917-865505346537",
   "metadata": {},
   "source": [
    "```{note}\n",
    "\n",
    "It was mentioned earlier that real quadratics either have two real roots or two complex roots. It is easy to construct quadratics with one complex and one real solution however. E.g., the quadratic $(x - i)(x - 1)$ has roots $x_1 = i, x_2 = 1$. Expanding out the product, $(x - i)(x - 1) = i - (i+1)x + x^2$, see that the coefficients are also a mixture of real and complex numbers. That is, this is necessarily a *complex* quadratic, not a real quadratic.\n",
    "\n",
    "````"
   ]
  },
  {
   "cell_type": "code",
   "execution_count": null,
   "id": "980018c5-c4a7-4433-ac5a-180722e4bf51",
   "metadata": {},
   "outputs": [],
   "source": []
  }
 ],
 "metadata": {
  "kernelspec": {
   "display_name": "Python 3",
   "language": "python",
   "name": "python3"
  },
  "language_info": {
   "codemirror_mode": {
    "name": "ipython",
    "version": 3
   },
   "file_extension": ".py",
   "mimetype": "text/x-python",
   "name": "python",
   "nbconvert_exporter": "python",
   "pygments_lexer": "ipython3",
   "version": "3.8.8"
  }
 },
 "nbformat": 4,
 "nbformat_minor": 5
}